{
 "cells": [
  {
   "cell_type": "markdown",
   "metadata": {},
   "source": [
    "# Alguns métodos de resolução de sistemas lineares"
   ]
  },
  {
   "cell_type": "markdown",
   "metadata": {},
   "source": [
    "# Decomposição de Cholesky"
   ]
  },
  {
   "cell_type": "markdown",
   "metadata": {},
   "source": [
    "###### Trata-se de uma simplificação da decomposição LU quando a matriz é simétrica positiva definida. A matriz $U$ é obtida através da transposição da matriz $L$."
   ]
  },
  {
   "cell_type": "markdown",
   "metadata": {},
   "source": [
    "### Temos então $L = \n",
    "\\begin{bmatrix}\n",
    "l_{11} & 0 & 0\\\\\n",
    "l_{21} & l_{22} & 0\\\\\n",
    "l_{31} & l_{32} & l_{33}\\\\\n",
    "\\end{bmatrix}$\n",
    "### e\n",
    "$U = \\begin{bmatrix}\n",
    "l_{11} & l_{21} & l_{31}\\\\\n",
    "0 & l_{22} & l_{32}\\\\\n",
    "0 & 0 & l_{33}\\\\\n",
    "\\end{bmatrix} = L^{t}$"
   ]
  },
  {
   "cell_type": "markdown",
   "metadata": {},
   "source": [
    "### Para uma matriz $M$, $M = LU$, segue:"
   ]
  },
  {
   "cell_type": "markdown",
   "metadata": {},
   "source": [
    " \n",
    "$M = \\begin{bmatrix}\n",
    "m_{11} & m_{12} & m_{13}\\\\\n",
    "m_{21} & m_{22} & m_{23}\\\\\n",
    "m_{31} & m_{32} & m_{33}\\\\\n",
    "\\end{bmatrix} = LU = LL^{t} = \\begin{bmatrix}\n",
    "l_{11}^{2} & l_{11}*l_{21} & l_{11}*l_{31}\\\\\n",
    "l_{21}*l_{11} & l_{21}^{2} + l_{22}^{2} & l_{21}*l_{31}+l_{22}*l_{32}\\\\\n",
    "l_{31}*l_{11} & l_{31}*l_{21} + l_{32}*l_{22} & l_{31}^{2} + l_{32}^{2} + l_{33}^{2}\\\\\n",
    "\\end{bmatrix}$"
   ]
  },
  {
   "cell_type": "markdown",
   "metadata": {},
   "source": [
    "### Pseudocódigo desse troço (inicializando L com 0):\n",
    "##### Para \n",
    "$k = 1:\\\\\n",
    "l_{11} = \\sqrt{m_{11}}\\\\\n",
    "l_{i1} = \\frac{m_{i1}}{l_{11}},  \\forall i = 2...n$\n",
    "##### Para\n",
    "$ k = 2...n:\\\\\n",
    "l_{kk} = [m_{kk} - \\sum_{r=1}^{k-1} l_{kr}^{2}]^{1/2}\\\\\n",
    "\\text{Para } i = k+1...n:\\\\\n",
    "l_{ik} = \\frac{1}{l_{kk}}(m_{ik} - \\sum_{r=1}^{k-1} l_{ir}*l_{rk})$\n",
    "             "
   ]
  },
  {
   "cell_type": "markdown",
   "metadata": {},
   "source": [
    "### Vamos começar com funções separadas para facilitar o entendimento e depois juntamos tudo numa maior."
   ]
  },
  {
   "cell_type": "code",
   "execution_count": 1,
   "metadata": {},
   "outputs": [],
   "source": [
    "import numpy as np\n",
    "import pandas as pd"
   ]
  },
  {
   "cell_type": "code",
   "execution_count": 2,
   "metadata": {},
   "outputs": [],
   "source": [
    "n = 3 ## tamanho da matriz de exemplo"
   ]
  },
  {
   "cell_type": "code",
   "execution_count": 3,
   "metadata": {},
   "outputs": [],
   "source": [
    "M = np.zeros((n,n+1)) ##seta uma matriz de exemplo; a coluna neste método tem que ter dimensão n+1 para entrar a resposta\n",
    "L = np.zeros((n, n+1)) ### matriz inferior com espacinho para a resposta"
   ]
  },
  {
   "cell_type": "code",
   "execution_count": 4,
   "metadata": {},
   "outputs": [
    {
     "data": {
      "text/plain": [
       "array([[0., 0., 0., 0.],\n",
       "       [0., 0., 0., 0.],\n",
       "       [0., 0., 0., 0.]])"
      ]
     },
     "execution_count": 4,
     "metadata": {},
     "output_type": "execute_result"
    }
   ],
   "source": [
    "M"
   ]
  },
  {
   "cell_type": "code",
   "execution_count": 5,
   "metadata": {},
   "outputs": [],
   "source": [
    "###preenchendo com os coeficientes e valores da matriz M\n",
    "M[0][0] = 2\n",
    "M[0][1] = -1\n",
    "M[0][2] = 0\n",
    "M[0][3] = 1\n",
    "M[1][0] = -1\n",
    "M[1][1] = 2\n",
    "M[1][2] = -1\n",
    "M[1][3] = 2\n",
    "M[2][0] = 0\n",
    "M[2][1] = -1\n",
    "M[2][2] = 2\n",
    "M[2][3] = 0\n",
    "\n",
    "##A matriz L também passa por pivotação, então temos que deixar o valor da resposta nela\n",
    "\n",
    "L[0][3] = 1\n",
    "L[1][3] = 2\n",
    "L[2][3] = 0\n"
   ]
  },
  {
   "cell_type": "code",
   "execution_count": null,
   "metadata": {},
   "outputs": [],
   "source": [
    "M_orig = M.copy()"
   ]
  },
  {
   "cell_type": "markdown",
   "metadata": {},
   "source": [
    "### Algoritmo de decomposição de Cholesky"
   ]
  },
  {
   "cell_type": "code",
   "execution_count": null,
   "metadata": {},
   "outputs": [],
   "source": [
    "L[0,0] = np.sqrt(M[0,0])\n",
    "L[:,0] = M[:,0]/L[0,0]\n",
    "\n",
    "for k in range(1,n):\n",
    "    ###diagonal principal\n",
    "    sum_k = 0\n",
    "    for r in range(k):\n",
    "        sum_k+=L[k,r]**2\n",
    "    L[k,k] = np.sqrt(M[k, k] - sum_k)\n",
    "    \n",
    "    for i in range(k+1, n):\n",
    "        sum_i = 0\n",
    "        for r in range(k-1):\n",
    "            sum_i += L[i,r]*L[r,k]\n",
    "        L[i,k] = (1/L[k,k])*(M[i,k] - sum_i)"
   ]
  },
  {
   "cell_type": "code",
   "execution_count": null,
   "metadata": {},
   "outputs": [],
   "source": [
    "np.matmul(L[:,0:n], L[:,0:n].T)## Deu certo!"
   ]
  },
  {
   "cell_type": "code",
   "execution_count": null,
   "metadata": {},
   "outputs": [],
   "source": [
    "[M, L, L.T]"
   ]
  },
  {
   "cell_type": "markdown",
   "metadata": {},
   "source": [
    "### Armazenando a transposta"
   ]
  },
  {
   "cell_type": "code",
   "execution_count": null,
   "metadata": {},
   "outputs": [],
   "source": [
    "Lt = np.zeros((n, n+1))"
   ]
  },
  {
   "cell_type": "code",
   "execution_count": null,
   "metadata": {},
   "outputs": [],
   "source": [
    "Lt[:,0:n] = L.T[0:n:,0:n]"
   ]
  },
  {
   "cell_type": "code",
   "execution_count": null,
   "metadata": {},
   "outputs": [],
   "source": [
    "Lt"
   ]
  },
  {
   "cell_type": "markdown",
   "metadata": {},
   "source": [
    "### Precisamos agora resolver o problema LC =  B. Vamos olhar a matriz L:"
   ]
  },
  {
   "cell_type": "code",
   "execution_count": null,
   "metadata": {},
   "outputs": [],
   "source": [
    "pd.DataFrame(L)"
   ]
  },
  {
   "cell_type": "markdown",
   "metadata": {},
   "source": [
    "### O algoritmo de solução deste sistema é o de substituições sucessivas (exatamente o inverso da retrossubstituição sucessiva)."
   ]
  },
  {
   "cell_type": "markdown",
   "metadata": {},
   "source": [
    "\n",
    "$\\begin{equation}\n",
    "\\left[\n",
    "    \\begin{array}{ccc:c}\n",
    "        L[0,0]x_1 & 0 & 0 & L[0,3]\\\\\n",
    "        L[1,0]x_1 & L[1,1]x_2 & 0 & L[1,3]\\\\\n",
    "        L[2,0]x_1 & L[2,1]x_2 & L[2,2]x_3 & L[2,3]\\\\\n",
    "    \\end{array}\n",
    "\\right]\n",
    "\\end{equation}$"
   ]
  },
  {
   "cell_type": "markdown",
   "metadata": {},
   "source": [
    "### Neste caso, teríamos:\n",
    "\n",
    "$\\begin{equation}\n",
    "x_1 = \\frac{L[0,3]}{L[0,0]}\\\\\n",
    "x_2  = \\frac{L[1,3]}{L[1,1]} - \\frac{L[1,0]*x_1}{L[1,1]}\\\\\n",
    "x_3  = \\frac{L[2,3]}{L[2,2]} - \\frac{L[2,0]*x_1}{L[2,2]} - \\frac{L[2,1]*x_2}{L[2,2]}\n",
    "\\end{equation}$"
   ]
  },
  {
   "cell_type": "markdown",
   "metadata": {},
   "source": [
    "### Note que os coeficientes que acompanham as incógnitas $x_i$ andam até o limite (i) nas colunas; ex: na linha 1, 0 passos; na linha 2, 1 passo (até L[1,0]); na linha 3, 2 passos (até L[2,1]). "
   ]
  },
  {
   "cell_type": "code",
   "execution_count": null,
   "metadata": {},
   "outputs": [],
   "source": [
    "c = np.zeros((n,1)) ##vetor que vai receber a resposta"
   ]
  },
  {
   "cell_type": "code",
   "execution_count": null,
   "metadata": {},
   "outputs": [],
   "source": [
    "### começamos com i = 0; andamos de cima pra baixo na matriz\n",
    "c[0] = L[0,n]/L[0,0]"
   ]
  },
  {
   "cell_type": "code",
   "execution_count": null,
   "metadata": {},
   "outputs": [],
   "source": [
    "for i in range(1, n): ###restringimos os casos a partir de 1, pois i = 0 ja foi calculado\n",
    "    termo_ind = L[i,n]/L[i,i] ###termo independente da equacao\n",
    "    soma = 0\n",
    "    for j in range(i):           ###esta parte do loop é a mais crucial de ser entendida; escreva numa folhinha de papel o que ela faz que fica facil de enxergar\n",
    "        soma += ((L[i,j])/(L[i,i]))*c[j]\n",
    "    c[i] = termo_ind - soma          ####o vetor de respostas vai sendo alimentado do começo ao fim"
   ]
  },
  {
   "cell_type": "code",
   "execution_count": null,
   "metadata": {},
   "outputs": [],
   "source": [
    "c"
   ]
  },
  {
   "cell_type": "markdown",
   "metadata": {},
   "source": [
    "### Agora vamos resolver o problema $L^{t}X = C$"
   ]
  },
  {
   "cell_type": "markdown",
   "metadata": {},
   "source": [
    "### Como $L^{t}$ é triangular superior, conseguimos aproveitar o algoritmo de retrossubstituições sucessivas:"
   ]
  },
  {
   "cell_type": "code",
   "execution_count": null,
   "metadata": {},
   "outputs": [],
   "source": [
    "x = np.zeros((n, 1)) ##vetor que vai receber a solução do sistema "
   ]
  },
  {
   "cell_type": "code",
   "execution_count": null,
   "metadata": {},
   "outputs": [],
   "source": [
    "Lt[:,n] = c.reshape(1,-1) ###atribuindo o valor de C na última coluna de L^t"
   ]
  },
  {
   "cell_type": "code",
   "execution_count": null,
   "metadata": {},
   "outputs": [],
   "source": [
    "## começamos com o caso de i = n (andamos de baixo pra cima na matriz)\n",
    "x[n-1] = Lt[n-1, n]/Lt[n-1, n-1]"
   ]
  },
  {
   "cell_type": "code",
   "execution_count": null,
   "metadata": {},
   "outputs": [],
   "source": [
    "for i in range(1, n): ###restringimos os casos a partir de n-1. o indexador do python ja fa isso naturalmente [1,n) ==[1,n-1]\n",
    "    termo_ind = Lt[n-i-1,n]/Lt[n-i-1,n-i-1] \n",
    "    soma = 0\n",
    "    for j in range(n-i, n):           ###esta parte do loop é a mais crucial de ser entendida; escreva numa folhinha de papel o que ela faz que fica facil de enxergar\n",
    "        soma += ((Lt[n-i-1,j])/(Lt[n-i-1,n-i-1]))*x[j]\n",
    "    x[n-i-1] = termo_ind - soma          ####o vetor de respostas vai sendo alimentado de tras pra frente tambem"
   ]
  },
  {
   "cell_type": "code",
   "execution_count": null,
   "metadata": {},
   "outputs": [],
   "source": [
    "x"
   ]
  },
  {
   "cell_type": "code",
   "execution_count": null,
   "metadata": {},
   "outputs": [],
   "source": [
    "pd.DataFrame(np.dot(M_orig[:,0:n],x).round(3)) #Sim! Deu certo. "
   ]
  },
  {
   "cell_type": "markdown",
   "metadata": {},
   "source": [
    "# Agrupando tudo em funções"
   ]
  },
  {
   "cell_type": "code",
   "execution_count": 6,
   "metadata": {},
   "outputs": [],
   "source": [
    "def decomposicao_cholesky(M, n):\n",
    "    L = np.zeros((M.shape))\n",
    "    Lt = np.zeros((M.shape))\n",
    "    \n",
    "    L[0,0] = np.sqrt(M[0,0])\n",
    "    L[:,0] = M[:,0]/L[0,0]\n",
    "\n",
    "    for k in range(1,n):\n",
    "        ###diagonal principal\n",
    "        sum_k = 0\n",
    "        for r in range(k):\n",
    "            sum_k+=L[k,r]**2\n",
    "        L[k,k] = np.sqrt(M[k, k] - sum_k)\n",
    "    \n",
    "        for i in range(k+1, n):\n",
    "            sum_i = 0\n",
    "            for r in range(k-1):\n",
    "                sum_i += L[i,r]*L[r,k]\n",
    "            L[i,k] = (1/L[k,k])*(M[i,k] - sum_i)\n",
    "    Lt[0:n,0:n] = L[0:n,0:n].T\n",
    "    L[:,n] = M[:,n]\n",
    "    return [M, L, Lt]"
   ]
  },
  {
   "cell_type": "code",
   "execution_count": 7,
   "metadata": {},
   "outputs": [
    {
     "data": {
      "text/plain": [
       "[array([[ 2., -1.,  0.,  1.],\n",
       "        [-1.,  2., -1.,  2.],\n",
       "        [ 0., -1.,  2.,  0.]]),\n",
       " array([[ 1.41421356,  0.        ,  0.        ,  1.        ],\n",
       "        [-0.70710678,  1.22474487,  0.        ,  2.        ],\n",
       "        [ 0.        , -0.81649658,  1.15470054,  0.        ]]),\n",
       " array([[ 1.41421356, -0.70710678,  0.        ,  0.        ],\n",
       "        [ 0.        ,  1.22474487, -0.81649658,  0.        ],\n",
       "        [ 0.        ,  0.        ,  1.15470054,  0.        ]])]"
      ]
     },
     "execution_count": 7,
     "metadata": {},
     "output_type": "execute_result"
    }
   ],
   "source": [
    "sols = decomposicao_cholesky(M,n)\n",
    "sols"
   ]
  },
  {
   "cell_type": "code",
   "execution_count": 8,
   "metadata": {},
   "outputs": [],
   "source": [
    "def solucao(L, n):\n",
    "    c = np.zeros((n, 1))\n",
    "    c[0] = L[0,n]/L[0,0]\n",
    "    for i in range(1, n): ###restringimos os casos a partir de 1, pois i = 0 ja foi calculado\n",
    "        termo_ind = L[i,n]/L[i,i] ###termo independente da equacao\n",
    "        soma = 0\n",
    "        for j in range(i):           ###esta parte do loop é a mais crucial de ser entendida; escreva numa folhinha de papel o que ela faz que fica facil de enxergar\n",
    "            soma += ((L[i,j])/(L[i,i]))*c[j]\n",
    "        c[i] = termo_ind - soma        ####o vetor de respostas vai sendo alimentado do começo ao fim\n",
    "    return c\n",
    "    "
   ]
  },
  {
   "cell_type": "code",
   "execution_count": 9,
   "metadata": {},
   "outputs": [],
   "source": [
    "c = solucao(sols[1], n)"
   ]
  },
  {
   "cell_type": "code",
   "execution_count": 10,
   "metadata": {},
   "outputs": [],
   "source": [
    "def retro_solucao(U, n, c):\n",
    "    x = np.zeros((n, 1))\n",
    "    U[:,n] = c.reshape(1, -1)\n",
    "    \n",
    "    x[n-1] = U[n-1, n]/U[n-1, n-1] ## começamos com o caso de i = n (andamos de baixo pra cima na matriz)\n",
    "    \n",
    "    for i in range(1, n): ###restringimos os casos a partir de n-1. o indexador do python ja fa isso naturalmente [1,n) ==[1,n-1]\n",
    "        termo_ind = U[n-i-1,n]/U[n-i-1,n-i-1] \n",
    "        soma = 0\n",
    "        for j in range(n-i, n):           ###esta parte do loop é a mais crucial de ser entendida; escreva numa folhinha de papel o que ela faz que fica facil de enxergar\n",
    "            soma += ((U[n-i-1,j])/(U[n-i-1,n-i-1]))*x[j]\n",
    "        x[n-i-1] = termo_ind - soma          ####o vetor de respostas vai sendo alimentado de tras pra frente tambem\n",
    "    return x"
   ]
  },
  {
   "cell_type": "code",
   "execution_count": 11,
   "metadata": {},
   "outputs": [],
   "source": [
    "X = retro_solucao(sols[2], n, c)"
   ]
  },
  {
   "cell_type": "code",
   "execution_count": 12,
   "metadata": {},
   "outputs": [
    {
     "data": {
      "text/plain": [
       "array([[0.70710678],\n",
       "       [2.04124145],\n",
       "       [1.44337567]])"
      ]
     },
     "execution_count": 12,
     "metadata": {},
     "output_type": "execute_result"
    }
   ],
   "source": [
    "c"
   ]
  },
  {
   "cell_type": "code",
   "execution_count": 13,
   "metadata": {},
   "outputs": [
    {
     "data": {
      "text/plain": [
       "array([[1.75],\n",
       "       [2.5 ],\n",
       "       [1.25]])"
      ]
     },
     "execution_count": 13,
     "metadata": {},
     "output_type": "execute_result"
    }
   ],
   "source": [
    "X"
   ]
  },
  {
   "cell_type": "markdown",
   "metadata": {},
   "source": [
    "### Testando se funcionou:"
   ]
  },
  {
   "cell_type": "code",
   "execution_count": 14,
   "metadata": {},
   "outputs": [
    {
     "data": {
      "text/plain": [
       "array([[1.],\n",
       "       [2.],\n",
       "       [0.]])"
      ]
     },
     "execution_count": 14,
     "metadata": {},
     "output_type": "execute_result"
    }
   ],
   "source": [
    "np.dot(M[:,0:n], X).round(3)  ##sim deu certo!"
   ]
  }
 ],
 "metadata": {
  "kernelspec": {
   "display_name": "Python 3",
   "language": "python",
   "name": "python3"
  },
  "language_info": {
   "codemirror_mode": {
    "name": "ipython",
    "version": 3
   },
   "file_extension": ".py",
   "mimetype": "text/x-python",
   "name": "python",
   "nbconvert_exporter": "python",
   "pygments_lexer": "ipython3",
   "version": "3.7.1"
  }
 },
 "nbformat": 4,
 "nbformat_minor": 2
}
