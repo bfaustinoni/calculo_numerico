{
 "cells": [
  {
   "cell_type": "markdown",
   "metadata": {},
   "source": [
    "# Alguns métodos de resolução de sistemas lineares"
   ]
  },
  {
   "cell_type": "markdown",
   "metadata": {},
   "source": [
    "# Decomposição LU"
   ]
  },
  {
   "cell_type": "markdown",
   "metadata": {},
   "source": [
    "###### Neste método, decompomos a matriz (não singular) no produto de duas matrizes triangulares L e U.\n",
    "###### Temos então:\n",
    "$A*X = B \\rightarrow (LU)*X = B \\rightarrow L(UX) = B$\n",
    "###### Chamando $UX = C$, resolvemos o problema $LC = B$, e em seguida recuperamos $X$ fazendo $UX = C$"
   ]
  },
  {
   "cell_type": "markdown",
   "metadata": {},
   "source": [
    "### Temos então $L = \n",
    "\\begin{bmatrix}\n",
    "l_{11} & 0 & 0\\\\\n",
    "l_{21} & l_{22} & 0\\\\\n",
    "l_{31} & l_{32} & l_{33}\\\\\n",
    "\\end{bmatrix}$\n",
    "### e\n",
    "$U = \\begin{bmatrix}\n",
    "1 & u_{12} & u_{13}\\\\\n",
    "0 & 1 & u_{23}\\\\\n",
    "0 & 0 & 1\\\\\n",
    "\\end{bmatrix}$"
   ]
  },
  {
   "cell_type": "markdown",
   "metadata": {},
   "source": [
    "### Para uma matriz $M$, $M = LU$, segue:"
   ]
  },
  {
   "cell_type": "markdown",
   "metadata": {},
   "source": [
    " \n",
    "$M = \\begin{bmatrix}\n",
    "m_{11} & m_{12} & m_{13}\\\\\n",
    "m_{21} & m_{22} & m_{23}\\\\\n",
    "m_{31} & m_{32} & m_{33}\\\\\n",
    "\\end{bmatrix} = LU = \\begin{bmatrix}\n",
    "l_{11} & l_{11}*u_{12} & l_{11}*u_{13}\\\\\n",
    "l_{21} & l_{21}*u_{12}+l_{22} & l_{21}*u_{13}+l_{22}*u_{23}\\\\\n",
    "l_{31} & l_{31}*u_{12} + l_{32} & l_{31}*u_{13} + l_{32}*u_{23} + l_{33}\\\\\n",
    "\\end{bmatrix} \\rightarrow$"
   ]
  },
  {
   "cell_type": "markdown",
   "metadata": {},
   "source": [
    "### Passo 1 da $L$:  Anda na linha, fixa na coluna\n",
    "$l_{11} = m_{11}\\\\\n",
    "l_{21} = m_{21}\\\\\n",
    "l_{31} = m_{31}$"
   ]
  },
  {
   "cell_type": "markdown",
   "metadata": {},
   "source": [
    "### Passo 1 da U:  Anda na coluna, fixa na linha\n",
    "$u_{12} = \\frac{m_{12}}{l_{11}}\\\\\n",
    "u_{13} = \\frac{m_{13}}{l_{11}}$"
   ]
  },
  {
   "cell_type": "markdown",
   "metadata": {},
   "source": [
    "### Passo 2 da L: Anda na linha, fixa na coluna\n",
    "$l_{22} = m_{22} - l_{21}*u_{12}\\\\\n",
    "l_{32} = m_{32} -l_{31}*u_{12}$"
   ]
  },
  {
   "cell_type": "markdown",
   "metadata": {},
   "source": [
    "### Passo 2 da U: Anda na coluna, fixa na linha\n",
    "$u_{23} = \\frac{m_{23} - l_{21}*u_{13}}{l_{22}}$"
   ]
  },
  {
   "cell_type": "markdown",
   "metadata": {},
   "source": [
    "### Passo 3 da L: Anda na linha, fixa na coluna\n",
    "$l_{33} = m_{3} - l_{31}*u_{13} - l_{32}*u_{23}$"
   ]
  },
  {
   "cell_type": "markdown",
   "metadata": {},
   "source": [
    "### Pseudocódigo desse troço (inicializando L e U com 0):\n",
    "##### Para \n",
    "$k = 1...n:    \\\\    i = k ... n:\\\\ % anda na linha\n",
    "             L[i,k] = M[i,k] - \\sum_{r=1}^{k} L[i,r]*U[r,k] \\\\\n",
    "             j = k ... n: \\\\ %anda na coluna\n",
    "             Se j = k: \\\\\n",
    "                     U[j,j] = 1 \\\\\n",
    "             Senão: \\\\  \n",
    "             U[k,j] = \\frac{1}{L_{kk}}(M[k,j] - \\sum_{r=1}^{k} *L[k, r]*U[r, j])$\\\\\n",
    "             "
   ]
  },
  {
   "cell_type": "markdown",
   "metadata": {},
   "source": [
    "### Vamos começar com funções separadas para facilitar o entendimento e depois juntamos tudo numa maior."
   ]
  },
  {
   "cell_type": "code",
   "execution_count": 1,
   "metadata": {},
   "outputs": [],
   "source": [
    "import numpy as np\n",
    "import pandas as pd"
   ]
  },
  {
   "cell_type": "code",
   "execution_count": 2,
   "metadata": {},
   "outputs": [],
   "source": [
    "n = 3 ## tamanho da matriz de exemplo"
   ]
  },
  {
   "cell_type": "code",
   "execution_count": 3,
   "metadata": {},
   "outputs": [],
   "source": [
    "M = np.zeros((n,n+1)) ##seta uma matriz de exemplo; a coluna neste método tem que ter dimensão n+1 para entrar a resposta\n",
    "L = np.zeros((n, n+1)) ### matriz inferior com espacinho para a resposta\n",
    "U = np.zeros((n, n+1)) ### matriz superior com espacinho para a resposta"
   ]
  },
  {
   "cell_type": "code",
   "execution_count": null,
   "metadata": {},
   "outputs": [],
   "source": [
    "M"
   ]
  },
  {
   "cell_type": "code",
   "execution_count": 4,
   "metadata": {},
   "outputs": [],
   "source": [
    "###preenchendo com os coeficientes e valores da matriz M\n",
    "M[0][0] = 0.448\n",
    "M[0][1] = 0.832\n",
    "M[0][2] = 0.193\n",
    "M[0][3] = 1\n",
    "M[1][0] = 0.421\n",
    "M[1][1] = 0.784\n",
    "M[1][2] = -0.207\n",
    "M[1][3] = 2\n",
    "M[2][0] = -0.319\n",
    "M[2][1] = 0.884\n",
    "M[2][2] = 0.279\n",
    "M[2][3] = 0\n",
    "\n",
    "##A matriz L também passa por pivotação, então temos que deixar o valor da resposta nela\n",
    "\n",
    "L[0][3] = 1\n",
    "L[1][3] = 2\n",
    "L[2][3] = 0\n"
   ]
  },
  {
   "cell_type": "code",
   "execution_count": 5,
   "metadata": {},
   "outputs": [],
   "source": [
    "M_orig = M.copy()"
   ]
  },
  {
   "cell_type": "markdown",
   "metadata": {},
   "source": [
    "### Pivotação parcial\n",
    "#### A função abaixo vai encontrar o indice (de linha) do maior valor em módulo na coluna que queremos pivotar, a partir da linha i == j\n",
    "#### Além disso, faz-se a troca de linhas, de acordo com a coluna j em que estamos"
   ]
  },
  {
   "cell_type": "code",
   "execution_count": null,
   "metadata": {},
   "outputs": [],
   "source": [
    "def pivota(M, n, j):\n",
    "    max_ = 0\n",
    "    idx = 0\n",
    "    for i in range(j,n):\n",
    "        if abs(M[i,j]) >= max_:\n",
    "            max_ = M[i,j]\n",
    "            idx = i\n",
    "    temp = M[j,:].copy()\n",
    "    M[j,:] = M[idx,:].copy()\n",
    "    M[idx,:] = temp.copy()\n",
    "    return M"
   ]
  },
  {
   "cell_type": "markdown",
   "metadata": {},
   "source": [
    "####  Vamos pivotar a matriz M inteira para facilitar o funcionamento da decomposição LU. Esta etapa é importante principalmente quando \n",
    "#### temos que lidar com erros de arredondamento"
   ]
  },
  {
   "cell_type": "code",
   "execution_count": null,
   "metadata": {},
   "outputs": [],
   "source": [
    "for i in range(n):\n",
    "    M = pivota(M, n, i)"
   ]
  },
  {
   "cell_type": "code",
   "execution_count": null,
   "metadata": {},
   "outputs": [],
   "source": [
    "[M, L, U]"
   ]
  },
  {
   "cell_type": "markdown",
   "metadata": {},
   "source": [
    "### Algoritmo de decomposição LU"
   ]
  },
  {
   "cell_type": "code",
   "execution_count": null,
   "metadata": {},
   "outputs": [],
   "source": [
    "for k in range(n):\n",
    "    for i in range(k, n):\n",
    "        soma_j = 0\n",
    "        for r in range(k):\n",
    "            soma_j = soma_j+L[i, r]*U[r, k]\n",
    "        L[i,k] = M[i,k] - soma_j\n",
    "\n",
    "        \n",
    "    for j in range(k, n): \n",
    "        if (j==k):\n",
    "            U[k,j] = 1\n",
    "        else:\n",
    "            soma_i = 0\n",
    "            for r in range(k):\n",
    "                soma_i = soma_i + L[k, r]*U[r, j]\n",
    "            U[k, j] = (1/L[k,k])*(M[k,j]-soma_i)\n"
   ]
  },
  {
   "cell_type": "code",
   "execution_count": null,
   "metadata": {},
   "outputs": [],
   "source": [
    "[M, L, U]"
   ]
  },
  {
   "cell_type": "code",
   "execution_count": null,
   "metadata": {},
   "outputs": [],
   "source": [
    "np.dot(L[:,0:3],U[:,0:3])"
   ]
  },
  {
   "cell_type": "code",
   "execution_count": null,
   "metadata": {},
   "outputs": [],
   "source": [
    "M  ###Funcionou! "
   ]
  },
  {
   "cell_type": "markdown",
   "metadata": {},
   "source": [
    "### Precisamos agora resolver o problema LC =  B. Vamos olhar a matriz L:"
   ]
  },
  {
   "cell_type": "code",
   "execution_count": null,
   "metadata": {},
   "outputs": [],
   "source": [
    "pd.DataFrame(L)"
   ]
  },
  {
   "cell_type": "markdown",
   "metadata": {},
   "source": [
    "### COMO M FOI PIVOTADA, É CRUCIAL QUE L RECEBA AS RESPOSTAS NA MESMA ORDEM DA PIVOTAÇÃO EM M"
   ]
  },
  {
   "cell_type": "code",
   "execution_count": null,
   "metadata": {},
   "outputs": [],
   "source": [
    "L[:,n] = M[:,n] "
   ]
  },
  {
   "cell_type": "code",
   "execution_count": null,
   "metadata": {},
   "outputs": [],
   "source": [
    "L"
   ]
  },
  {
   "cell_type": "markdown",
   "metadata": {},
   "source": [
    "### O algoritmo de solução deste sistema é o de substituições sucessivas (exatamente o inverso da retrossubstituição sucessiva)."
   ]
  },
  {
   "cell_type": "markdown",
   "metadata": {},
   "source": [
    "\n",
    "$\\begin{equation}\n",
    "\\left[\n",
    "    \\begin{array}{ccc:c}\n",
    "        L[0,0]x_1 & 0 & 0 & L[0,3]\\\\\n",
    "        L[1,0]x_1 & L[1,1]x_2 & 0 & L[1,3]\\\\\n",
    "        L[2,0]x_1 & L[2,1]x_2 & L[2,2]x_3 & L[2,3]\\\\\n",
    "    \\end{array}\n",
    "\\right]\n",
    "\\end{equation}$"
   ]
  },
  {
   "cell_type": "markdown",
   "metadata": {},
   "source": [
    "### Neste caso, teríamos:\n",
    "\n",
    "$\\begin{equation}\n",
    "x_1 = \\frac{L[0,3]}{L[0,0]}\\\\\n",
    "x_2  = \\frac{L[1,3]}{L[1,1]} - \\frac{L[1,0]*x_1}{L[1,1]}\\\\\n",
    "x_3  = \\frac{L[2,3]}{L[2,2]} - \\frac{L[2,0]*x_1}{L[2,2]} - \\frac{L[2,1]*x_2}{L[2,2]}\n",
    "\\end{equation}$"
   ]
  },
  {
   "cell_type": "markdown",
   "metadata": {},
   "source": [
    "### Note que os coeficientes que acompanham as incógnitas $x_i$ andam até o limite (i) nas colunas; ex: na linha 1, 0 passos; na linha 2, 1 passo (até L[1,0]); na linha 3, 2 passos (até L[2,1]). "
   ]
  },
  {
   "cell_type": "code",
   "execution_count": null,
   "metadata": {},
   "outputs": [],
   "source": [
    "c = np.zeros((n,1)) ##vetor que vai receber a resposta"
   ]
  },
  {
   "cell_type": "code",
   "execution_count": null,
   "metadata": {},
   "outputs": [],
   "source": [
    "### começamos com i = 0; andamos de cima pra baixo na matriz\n",
    "c[0] = L[0,n]/L[0,0]"
   ]
  },
  {
   "cell_type": "code",
   "execution_count": null,
   "metadata": {},
   "outputs": [],
   "source": [
    "for i in range(1, n): ###restringimos os casos a partir de 1, pois i = 0 ja foi calculado\n",
    "    termo_ind = L[i,n]/L[i,i] ###termo independente da equacao\n",
    "    soma = 0\n",
    "    for j in range(i):           ###esta parte do loop é a mais crucial de ser entendida; escreva numa folhinha de papel o que ela faz que fica facil de enxergar\n",
    "        soma += ((L[i,j])/(L[i,i]))*c[j]\n",
    "    c[i] = termo_ind - soma          ####o vetor de respostas vai sendo alimentado do começo ao fim"
   ]
  },
  {
   "cell_type": "code",
   "execution_count": null,
   "metadata": {},
   "outputs": [],
   "source": [
    "c"
   ]
  },
  {
   "cell_type": "markdown",
   "metadata": {},
   "source": [
    "### Agora vamos resolver o problema UX = C"
   ]
  },
  {
   "cell_type": "markdown",
   "metadata": {},
   "source": [
    "### Como U é triangular superior, conseguimos aproveitar o algoritmo de retrossubstituições sucessivas:"
   ]
  },
  {
   "cell_type": "code",
   "execution_count": null,
   "metadata": {},
   "outputs": [],
   "source": [
    "x = np.zeros((n, 1)) ##vetor que vai receber a solução do sistema "
   ]
  },
  {
   "cell_type": "code",
   "execution_count": null,
   "metadata": {},
   "outputs": [],
   "source": [
    "U[:,n] = c.reshape(1,-1) ###atribuindo o valor de C na última coluna de U"
   ]
  },
  {
   "cell_type": "code",
   "execution_count": null,
   "metadata": {},
   "outputs": [],
   "source": [
    "## começamos com o caso de i = n (andamos de baixo pra cima na matriz)\n",
    "x[n-1] = U[n-1, n]/U[n-1, n-1]"
   ]
  },
  {
   "cell_type": "code",
   "execution_count": null,
   "metadata": {},
   "outputs": [],
   "source": [
    "for i in range(1, n): ###restringimos os casos a partir de n-1. o indexador do python ja fa isso naturalmente [1,n) ==[1,n-1]\n",
    "    termo_ind = U[n-i-1,n]/U[n-i-1,n-i-1] \n",
    "    soma = 0\n",
    "    for j in range(n-i, n):           ###esta parte do loop é a mais crucial de ser entendida; escreva numa folhinha de papel o que ela faz que fica facil de enxergar\n",
    "        soma += ((U[n-i-1,j])/(U[n-i-1,n-i-1]))*x[j]\n",
    "    x[n-i-1] = termo_ind - soma          ####o vetor de respostas vai sendo alimentado de tras pra frente tambem"
   ]
  },
  {
   "cell_type": "code",
   "execution_count": null,
   "metadata": {},
   "outputs": [],
   "source": [
    "x"
   ]
  },
  {
   "cell_type": "code",
   "execution_count": null,
   "metadata": {},
   "outputs": [],
   "source": [
    "pd.DataFrame(np.dot(M_orig[:,0:n],x).round(3)) #Sim! Deu certo. Guardamos essa M não pivoatada para checar"
   ]
  },
  {
   "cell_type": "markdown",
   "metadata": {},
   "source": [
    "# Agrupando tudo em funções"
   ]
  },
  {
   "cell_type": "code",
   "execution_count": 6,
   "metadata": {},
   "outputs": [],
   "source": [
    "def pivotacao(M, n):\n",
    "    for j in range(n):\n",
    "        max_ = 0\n",
    "        idx = 0\n",
    "        for i in range(j,n):\n",
    "            if abs(M[i,j]) >= max_:\n",
    "                max_ = M[i,j]\n",
    "                idx = i\n",
    "        temp = M[j,:].copy()\n",
    "        M[j,:] = M[idx,:].copy()\n",
    "        M[idx,:] = temp.copy()\n",
    "    return M"
   ]
  },
  {
   "cell_type": "code",
   "execution_count": 7,
   "metadata": {},
   "outputs": [],
   "source": [
    "M = pivotacao(M, n)"
   ]
  },
  {
   "cell_type": "code",
   "execution_count": 8,
   "metadata": {},
   "outputs": [],
   "source": [
    "def decomposicao_LU(M, n):\n",
    "    L = np.zeros((M.shape))\n",
    "    U = np.zeros((M.shape))\n",
    "\n",
    "\n",
    "    for k in range(n):\n",
    "        for i in range(k, n):\n",
    "            soma_j = 0\n",
    "            for r in range(k):\n",
    "                soma_j = soma_j+L[i, r]*U[r, k]\n",
    "            L[i,k] = M[i,k] - soma_j\n",
    "\n",
    "        \n",
    "        for j in range(k, n): \n",
    "            if (j==k):\n",
    "                U[k,j] = 1\n",
    "            else:\n",
    "                soma_i = 0\n",
    "                for r in range(k):\n",
    "                    soma_i = soma_i + L[k, r]*U[r, j]\n",
    "                U[k, j] = (1/L[k,k])*(M[k,j]-soma_i)\n",
    "    L[:,n] = M[:,n]\n",
    "    return [M, L, U]"
   ]
  },
  {
   "cell_type": "code",
   "execution_count": 9,
   "metadata": {},
   "outputs": [
    {
     "data": {
      "text/plain": [
       "[array([[ 0.448,  0.832,  0.193,  1.   ],\n",
       "        [-0.319,  0.884,  0.279,  0.   ],\n",
       "        [ 0.421,  0.784, -0.207,  2.   ]]),\n",
       " array([[ 0.448     ,  0.        ,  0.        ,  1.        ],\n",
       "        [-0.319     ,  1.47642857,  0.        ,  0.        ],\n",
       "        [ 0.421     ,  0.00214286, -0.3889727 ,  2.        ]]),\n",
       " array([[1.        , 1.85714286, 0.43080357, 0.        ],\n",
       "        [0.        , 1.        , 0.28204977, 0.        ],\n",
       "        [0.        , 0.        , 1.        , 0.        ]])]"
      ]
     },
     "execution_count": 9,
     "metadata": {},
     "output_type": "execute_result"
    }
   ],
   "source": [
    "sols = decomposicao_LU(M,n)\n",
    "sols"
   ]
  },
  {
   "cell_type": "code",
   "execution_count": 10,
   "metadata": {},
   "outputs": [],
   "source": [
    "def solucao(L, n):\n",
    "    c = np.zeros((n, 1))\n",
    "    c[0] = L[0,n]/L[0,0]\n",
    "    for i in range(1, n): ###restringimos os casos a partir de 1, pois i = 0 ja foi calculado\n",
    "        termo_ind = L[i,n]/L[i,i] ###termo independente da equacao\n",
    "        soma = 0\n",
    "        for j in range(i):           ###esta parte do loop é a mais crucial de ser entendida; escreva numa folhinha de papel o que ela faz que fica facil de enxergar\n",
    "            soma += ((L[i,j])/(L[i,i]))*c[j]\n",
    "        c[i] = termo_ind - soma        ####o vetor de respostas vai sendo alimentado do começo ao fim\n",
    "    return c\n",
    "    "
   ]
  },
  {
   "cell_type": "code",
   "execution_count": 11,
   "metadata": {},
   "outputs": [],
   "source": [
    "c = solucao(sols[1], n)"
   ]
  },
  {
   "cell_type": "code",
   "execution_count": 12,
   "metadata": {},
   "outputs": [],
   "source": [
    "def retro_solucao(U, n, c):\n",
    "    x = np.zeros((n, 1))\n",
    "    U[:,n] = c.reshape(1, -1)\n",
    "    \n",
    "    x[n-1] = U[n-1, n]/U[n-1, n-1] ## começamos com o caso de i = n (andamos de baixo pra cima na matriz)\n",
    "    \n",
    "    for i in range(1, n): ###restringimos os casos a partir de n-1. o indexador do python ja fa isso naturalmente [1,n) ==[1,n-1]\n",
    "        termo_ind = U[n-i-1,n]/U[n-i-1,n-i-1] \n",
    "        soma = 0\n",
    "        for j in range(n-i, n):           ###esta parte do loop é a mais crucial de ser entendida; escreva numa folhinha de papel o que ela faz que fica facil de enxergar\n",
    "            soma += ((U[n-i-1,j])/(U[n-i-1,n-i-1]))*x[j]\n",
    "        x[n-i-1] = termo_ind - soma          ####o vetor de respostas vai sendo alimentado de tras pra frente tambem\n",
    "    return x"
   ]
  },
  {
   "cell_type": "code",
   "execution_count": 14,
   "metadata": {},
   "outputs": [],
   "source": [
    "X = retro_solucao(sols[2], n, c)"
   ]
  },
  {
   "cell_type": "markdown",
   "metadata": {},
   "source": [
    "### Testando se funcionou:"
   ]
  },
  {
   "cell_type": "code",
   "execution_count": 19,
   "metadata": {},
   "outputs": [
    {
     "data": {
      "text/plain": [
       "array([[1.],\n",
       "       [2.],\n",
       "       [0.]])"
      ]
     },
     "execution_count": 19,
     "metadata": {},
     "output_type": "execute_result"
    }
   ],
   "source": [
    "np.dot(M_orig[:,0:n], X).round(3)  ##sim deu certo!"
   ]
  },
  {
   "cell_type": "code",
   "execution_count": null,
   "metadata": {},
   "outputs": [],
   "source": [
    "### No link abaixo tem a implementação do método de Doolittle, que é um pouco diferente mas faz algo parecido\n",
    "### https://www.geeksforgeeks.org/doolittle-algorithm-lu-decomposition/"
   ]
  }
 ],
 "metadata": {
  "kernelspec": {
   "display_name": "Python 3",
   "language": "python",
   "name": "python3"
  },
  "language_info": {
   "codemirror_mode": {
    "name": "ipython",
    "version": 3
   },
   "file_extension": ".py",
   "mimetype": "text/x-python",
   "name": "python",
   "nbconvert_exporter": "python",
   "pygments_lexer": "ipython3",
   "version": "3.7.1"
  }
 },
 "nbformat": 4,
 "nbformat_minor": 2
}
