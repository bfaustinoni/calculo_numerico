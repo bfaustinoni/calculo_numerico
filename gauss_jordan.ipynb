{
 "cells": [
  {
   "cell_type": "markdown",
   "metadata": {},
   "source": [
    "# Alguns métodos de resolução de sistemas lineares"
   ]
  },
  {
   "cell_type": "markdown",
   "metadata": {},
   "source": [
    "# Método de Gauss-Jordan"
   ]
  },
  {
   "cell_type": "markdown",
   "metadata": {},
   "source": [
    "###### Neste método, transformamos a matriz de coeficientes em identidade; a matriz aumentada conterá a inversa da matriz de coeficientes, que utilizaremos para obter a solução do sistema. Pode-se inserir uma etapa de pivotação parcial ou total no processo."
   ]
  },
  {
   "cell_type": "code",
   "execution_count": 1,
   "metadata": {},
   "outputs": [
    {
     "data": {
      "text/latex": [
       "\\begin{equation}\n",
       "A*X = B \\rightarrow X = A^{-1}*B\n",
       "\\end{equation}\n"
      ],
      "text/plain": [
       "<IPython.core.display.Latex object>"
      ]
     },
     "metadata": {},
     "output_type": "display_data"
    }
   ],
   "source": [
    "%%latex\n",
    "\\begin{equation}\n",
    "A*X = B \\rightarrow X = A^{-1}*B\n",
    "\\end{equation}"
   ]
  },
  {
   "cell_type": "markdown",
   "metadata": {},
   "source": [
    "### Vamos começar com funções separadas para facilitar o entendimento e depois juntamos tudo numa maior."
   ]
  },
  {
   "cell_type": "code",
   "execution_count": 2,
   "metadata": {},
   "outputs": [],
   "source": [
    "import numpy as np\n",
    "import pandas as pd"
   ]
  },
  {
   "cell_type": "code",
   "execution_count": 3,
   "metadata": {},
   "outputs": [],
   "source": [
    "n = 3 ## tamanho da matriz de exemplo"
   ]
  },
  {
   "cell_type": "code",
   "execution_count": 4,
   "metadata": {},
   "outputs": [],
   "source": [
    "M = np.zeros((n,2*n)) ##seta uma matriz de exemplo; a coluna neste método tem que ter dimensão 2n pois a matriz aumentada recebe a matriz identidade que vai constituir a inversa"
   ]
  },
  {
   "cell_type": "code",
   "execution_count": 5,
   "metadata": {},
   "outputs": [],
   "source": [
    "id = np.identity(n) ##criamos a matriz identidade"
   ]
  },
  {
   "cell_type": "code",
   "execution_count": 6,
   "metadata": {},
   "outputs": [],
   "source": [
    "M[:,n:2*n] = id #alocamos na matriz aumentada"
   ]
  },
  {
   "cell_type": "code",
   "execution_count": 7,
   "metadata": {},
   "outputs": [
    {
     "data": {
      "text/plain": [
       "array([[0., 0., 0., 1., 0., 0.],\n",
       "       [0., 0., 0., 0., 1., 0.],\n",
       "       [0., 0., 0., 0., 0., 1.]])"
      ]
     },
     "execution_count": 7,
     "metadata": {},
     "output_type": "execute_result"
    }
   ],
   "source": [
    "M"
   ]
  },
  {
   "cell_type": "code",
   "execution_count": 8,
   "metadata": {},
   "outputs": [],
   "source": [
    "###preenchendo com os coeficientes\n",
    "M[0][0] = 3\n",
    "M[0][1] = 1.5\n",
    "M[0][2] = 4.75\n",
    "M[1][0] = 4\n",
    "M[1][1] = 2\n",
    "M[1][2] = 3\n",
    "M[2][0] = 2\n",
    "M[2][1] = 5\n",
    "M[2][2] = 3"
   ]
  },
  {
   "cell_type": "code",
   "execution_count": 26,
   "metadata": {},
   "outputs": [],
   "source": [
    "### Vetor com as respostas:\n",
    "b = np.array([8, 7, -12])"
   ]
  },
  {
   "cell_type": "code",
   "execution_count": 10,
   "metadata": {},
   "outputs": [
    {
     "data": {
      "text/plain": [
       "array([ 3.069, -4.288,  1.1  ])"
      ]
     },
     "execution_count": 10,
     "metadata": {},
     "output_type": "execute_result"
    }
   ],
   "source": [
    "b"
   ]
  },
  {
   "cell_type": "markdown",
   "metadata": {},
   "source": [
    "### Pivotação parcial\n",
    "#### A função abaixo vai encontrar o indice (de linha) do maior valor em módulo na coluna que queremos pivotar, a partir da linha i == j"
   ]
  },
  {
   "cell_type": "code",
   "execution_count": 11,
   "metadata": {},
   "outputs": [],
   "source": [
    "def max_idx(M, n, j): ###\n",
    "    max_ = 0\n",
    "    idx = 0\n",
    "    for i in range(j,n):\n",
    "        if abs(M[i,j]) >= max_:\n",
    "            max_ = M[i,j]\n",
    "            idx = i\n",
    "    return idx"
   ]
  },
  {
   "cell_type": "markdown",
   "metadata": {},
   "source": [
    "### A função abaixo faz a troca de linhas, de acordo com a coluna j em que estamos"
   ]
  },
  {
   "cell_type": "code",
   "execution_count": 12,
   "metadata": {},
   "outputs": [],
   "source": [
    "def pivota(M, n, j):\n",
    "    idx_max = max_idx(M, n, j)\n",
    "    temp = M[j,:].copy()\n",
    "    M[j,:] = M[idx_max,:]\n",
    "    M[idx_max,:] = temp\n",
    "    return M"
   ]
  },
  {
   "cell_type": "markdown",
   "metadata": {},
   "source": [
    "### Escalonamento da matriz"
   ]
  },
  {
   "cell_type": "markdown",
   "metadata": {},
   "source": [
    "### Nesta etapa, não fazemos apenas a triangularização; temos que fazer a diagonalização completa da matriz para ela se tornar uma identidade. Logo, precisamos normalizar pelo pivô e alterar a função de triangularização para fazer diagonalização."
   ]
  },
  {
   "cell_type": "code",
   "execution_count": 13,
   "metadata": {},
   "outputs": [],
   "source": [
    "def normaliza(M, n, j):\n",
    "    pivo = M[j, j]\n",
    "    M[j,:] = M[j,:]/pivo\n",
    "    return M"
   ]
  },
  {
   "cell_type": "code",
   "execution_count": 14,
   "metadata": {},
   "outputs": [],
   "source": [
    "def diagonaliza(M, n, j):   ######esta função traz o indice da coluna em que estamos, a matriz, e o tamanho da matriz de coeficiente; ela vai diagonalizar a linha i fixando-se o indice da coluna j, para todo i != j \n",
    "    for i in range(n):\n",
    "        if (i!=j):\n",
    "            M[i,:] = M[i,:] - (M[i,j])*M[j,:]\n",
    "    return M"
   ]
  },
  {
   "cell_type": "markdown",
   "metadata": {},
   "source": [
    "### Juntando tudo numa funçãozinha só"
   ]
  },
  {
   "cell_type": "code",
   "execution_count": 15,
   "metadata": {},
   "outputs": [],
   "source": [
    "###vamos juntar tudo numa função só para mostrar que funciona\n",
    "def gauss_jordan(M,n):\n",
    "    for j in range(n):\n",
    "        M = pivota(M, n, j)\n",
    "        M = normaliza(M, n, j)\n",
    "        M = diagonaliza(M, n, j)\n",
    "    return M"
   ]
  },
  {
   "cell_type": "code",
   "execution_count": 16,
   "metadata": {},
   "outputs": [],
   "source": [
    "teste = gauss_jordan(M, n)"
   ]
  },
  {
   "cell_type": "code",
   "execution_count": 17,
   "metadata": {},
   "outputs": [
    {
     "data": {
      "text/plain": [
       "array([[ 1.     ,  0.     ,  0.     , -0.225  ,  0.48125, -0.125  ],\n",
       "       [ 0.     ,  1.     ,  0.     , -0.15   , -0.0125 ,  0.25   ],\n",
       "       [ 0.     ,  0.     ,  1.     ,  0.4    , -0.3    ,  0.     ]])"
      ]
     },
     "execution_count": 17,
     "metadata": {},
     "output_type": "execute_result"
    }
   ],
   "source": [
    "teste"
   ]
  },
  {
   "cell_type": "markdown",
   "metadata": {},
   "source": [
    "### A implementação acima funciona, mas tem funçõezinhas em separado. Conseguimos juntar tudo em uma só: encontrar o maior valor em módulo, trocar as linhas, diagonalizar :)\n"
   ]
  },
  {
   "cell_type": "code",
   "execution_count": 18,
   "metadata": {},
   "outputs": [],
   "source": [
    "def gauss_jordan_tot(M, n):\n",
    "    for j in range(n):\n",
    "        max_ = 0\n",
    "        idx = 0\n",
    "        for i in range(j,n):\n",
    "            if abs(M[i,j]) >= max_:\n",
    "                max_ = M[i,j]\n",
    "                idx = i\n",
    "        i=0\n",
    "        temp = M[j,:].copy()\n",
    "        M[j,:] = M[idx,:]\n",
    "        M[idx,:] = temp\n",
    "        pivo = M[j,j]\n",
    "        M[j,:] = M[j,:]/pivo  ###normalizando\n",
    "        for i in range(n):      ### ela vai diagonalizar a linha i fixando o indice da coluna, para i != j\n",
    "            if (i!=j):\n",
    "                M[i,:] = M[i,:] - (M[i,j])*M[j,:]\n",
    "    return M"
   ]
  },
  {
   "cell_type": "code",
   "execution_count": 19,
   "metadata": {},
   "outputs": [],
   "source": [
    "teste2 = gauss_jordan_tot(M, n)"
   ]
  },
  {
   "cell_type": "code",
   "execution_count": 20,
   "metadata": {},
   "outputs": [
    {
     "data": {
      "text/plain": [
       "array([[ 1.     ,  0.     ,  0.     , -0.225  ,  0.48125, -0.125  ],\n",
       "       [ 0.     ,  1.     ,  0.     , -0.15   , -0.0125 ,  0.25   ],\n",
       "       [ 0.     ,  0.     ,  1.     ,  0.4    , -0.3    ,  0.     ]])"
      ]
     },
     "execution_count": 20,
     "metadata": {},
     "output_type": "execute_result"
    }
   ],
   "source": [
    "teste2"
   ]
  },
  {
   "cell_type": "markdown",
   "metadata": {},
   "source": [
    "## Atribuição das soluções do sistema"
   ]
  },
  {
   "cell_type": "markdown",
   "metadata": {},
   "source": [
    "### Basta multiplicar a inversa pelo vetor de resposta do sistema."
   ]
  },
  {
   "cell_type": "code",
   "execution_count": 22,
   "metadata": {},
   "outputs": [
    {
     "data": {
      "text/plain": [
       "array([[-0.225  ,  0.48125, -0.125  ],\n",
       "       [-0.15   , -0.0125 ,  0.25   ],\n",
       "       [ 0.4    , -0.3    ,  0.     ]])"
      ]
     },
     "execution_count": 22,
     "metadata": {},
     "output_type": "execute_result"
    }
   ],
   "source": [
    "M_1 = teste2[:,n:2*n+1]\n",
    "M_1"
   ]
  },
  {
   "cell_type": "code",
   "execution_count": 23,
   "metadata": {},
   "outputs": [
    {
     "data": {
      "text/html": [
       "<div>\n",
       "<style scoped>\n",
       "    .dataframe tbody tr th:only-of-type {\n",
       "        vertical-align: middle;\n",
       "    }\n",
       "\n",
       "    .dataframe tbody tr th {\n",
       "        vertical-align: top;\n",
       "    }\n",
       "\n",
       "    .dataframe thead th {\n",
       "        text-align: right;\n",
       "    }\n",
       "</style>\n",
       "<table border=\"1\" class=\"dataframe\">\n",
       "  <thead>\n",
       "    <tr style=\"text-align: right;\">\n",
       "      <th></th>\n",
       "      <th>0</th>\n",
       "      <th>1</th>\n",
       "      <th>2</th>\n",
       "    </tr>\n",
       "  </thead>\n",
       "  <tbody>\n",
       "    <tr>\n",
       "      <th>0</th>\n",
       "      <td>-0.225</td>\n",
       "      <td>0.48125</td>\n",
       "      <td>-0.125</td>\n",
       "    </tr>\n",
       "    <tr>\n",
       "      <th>1</th>\n",
       "      <td>-0.150</td>\n",
       "      <td>-0.01250</td>\n",
       "      <td>0.250</td>\n",
       "    </tr>\n",
       "    <tr>\n",
       "      <th>2</th>\n",
       "      <td>0.400</td>\n",
       "      <td>-0.30000</td>\n",
       "      <td>0.000</td>\n",
       "    </tr>\n",
       "  </tbody>\n",
       "</table>\n",
       "</div>"
      ],
      "text/plain": [
       "       0        1      2\n",
       "0 -0.225  0.48125 -0.125\n",
       "1 -0.150 -0.01250  0.250\n",
       "2  0.400 -0.30000  0.000"
      ]
     },
     "execution_count": 23,
     "metadata": {},
     "output_type": "execute_result"
    }
   ],
   "source": [
    "pd.DataFrame(M_1)"
   ]
  },
  {
   "cell_type": "code",
   "execution_count": 27,
   "metadata": {},
   "outputs": [],
   "source": [
    "solucao = np.dot(M_1, b)\n",
    "    "
   ]
  },
  {
   "cell_type": "code",
   "execution_count": 28,
   "metadata": {},
   "outputs": [
    {
     "data": {
      "text/plain": [
       "array([ 3.06875, -4.2875 ,  1.1    ])"
      ]
     },
     "execution_count": 28,
     "metadata": {},
     "output_type": "execute_result"
    }
   ],
   "source": [
    "solucao"
   ]
  },
  {
   "cell_type": "markdown",
   "metadata": {},
   "source": [
    "### Verificando se resultou na solução correta:"
   ]
  },
  {
   "cell_type": "code",
   "execution_count": 34,
   "metadata": {},
   "outputs": [],
   "source": [
    "###recarrega os coeficientes na M só para testarmos\n",
    "M[0][0] = 3\n",
    "M[0][1] = 1.5\n",
    "M[0][2] = 4.75\n",
    "M[1][0] = 4\n",
    "M[1][1] = 2\n",
    "M[1][2] = 3\n",
    "M[2][0] = 2\n",
    "M[2][1] = 5\n",
    "M[2][2] = 3"
   ]
  },
  {
   "cell_type": "code",
   "execution_count": 35,
   "metadata": {},
   "outputs": [
    {
     "data": {
      "text/plain": [
       "array([  8.,   7., -12.])"
      ]
     },
     "execution_count": 35,
     "metadata": {},
     "output_type": "execute_result"
    }
   ],
   "source": [
    "np.dot(M[:,0:n],solucao) #Sim! Deu certo"
   ]
  }
 ],
 "metadata": {
  "kernelspec": {
   "display_name": "Python 3",
   "language": "python",
   "name": "python3"
  },
  "language_info": {
   "codemirror_mode": {
    "name": "ipython",
    "version": 3
   },
   "file_extension": ".py",
   "mimetype": "text/x-python",
   "name": "python",
   "nbconvert_exporter": "python",
   "pygments_lexer": "ipython3",
   "version": "3.7.1"
  }
 },
 "nbformat": 4,
 "nbformat_minor": 2
}
