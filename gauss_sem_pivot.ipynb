{
 "cells": [
  {
   "cell_type": "markdown",
   "metadata": {},
   "source": [
    "# Alguns métodos de resolução de sistemas lineares"
   ]
  },
  {
   "cell_type": "markdown",
   "metadata": {},
   "source": [
    "# Método de eliminação de Gauss (sem pivotação)"
   ]
  },
  {
   "cell_type": "markdown",
   "metadata": {},
   "source": [
    "###### Consiste em aplicar um conjunto de operações elementares em um sistema linear com o objetivo de torná-lo mais simples. A solução do sistema se dá através do processo de triangularização-retrossubstituição. Basicamente, trata-se do escalonamento da matriz de coeficientes e substituição de valores de maneira conveniente."
   ]
  },
  {
   "cell_type": "code",
   "execution_count": 25,
   "metadata": {},
   "outputs": [],
   "source": [
    "import numpy as np\n",
    "import pandas as pd"
   ]
  },
  {
   "cell_type": "code",
   "execution_count": 26,
   "metadata": {},
   "outputs": [],
   "source": [
    "n = 3 ## tamanho da matriz de exemplo"
   ]
  },
  {
   "cell_type": "code",
   "execution_count": 27,
   "metadata": {},
   "outputs": [],
   "source": [
    "x = np.zeros((n, 1)) ##esse vetor vai conter as respostas do sistema"
   ]
  },
  {
   "cell_type": "code",
   "execution_count": 28,
   "metadata": {},
   "outputs": [],
   "source": [
    "M = np.zeros((n,n+1)) ##seta uma matriz de exemplo; a coluna sempre tem que ter dimensão n+1 pois ela recebe\n",
    "#tambem o vetor de resposta. Vamos a seguir popular a nossa matriz com um exemplo simples de sistema possível e determinado\n",
    "### como exemplo de aplicação do algoritmo de Gauss sem pivotação "
   ]
  },
  {
   "cell_type": "code",
   "execution_count": 29,
   "metadata": {},
   "outputs": [],
   "source": [
    "M[0][0] = 0.448\n",
    "M[0][1] = 0.832\n",
    "M[0][2] = 0.193\n",
    "M[0][3] = 1\n",
    "M[1][0] = 0.421\n",
    "M[1][1] = 0.784\n",
    "M[1][2] = -0.207\n",
    "M[1][3] = 0\n",
    "M[2][0] = -0.319\n",
    "M[2][1] = 0.884\n",
    "M[2][2] = 0.279\n",
    "M[2][3] = 0"
   ]
  },
  {
   "cell_type": "markdown",
   "metadata": {},
   "source": [
    "### Triangularização (nome feio para escalonamento - que também não é bonito)"
   ]
  },
  {
   "cell_type": "code",
   "execution_count": 30,
   "metadata": {},
   "outputs": [],
   "source": [
    "def triangula(M, j, n):   ###esta função traz o indice da coluna em que estamos, a matriz, e o tamanho da matriz de coeficientes\n",
    "    pivo = M[j,j]         ### ela vai escalonar a linha a partir do indice da coluna\n",
    "    for i in range(j+1,n):\n",
    "        M[i,:] = M[i,:] - (M[i,j]/pivo)*M[j,:]\n",
    "    return M"
   ]
  },
  {
   "cell_type": "code",
   "execution_count": 31,
   "metadata": {},
   "outputs": [],
   "source": [
    "for k in range(n-1): ###anda os passos necessarios ao longo das colunas para fazer a triangulação na matriz toda\n",
    "    triangula(M, k, n)"
   ]
  },
  {
   "cell_type": "code",
   "execution_count": 32,
   "metadata": {},
   "outputs": [
    {
     "data": {
      "text/html": [
       "<div>\n",
       "<style scoped>\n",
       "    .dataframe tbody tr th:only-of-type {\n",
       "        vertical-align: middle;\n",
       "    }\n",
       "\n",
       "    .dataframe tbody tr th {\n",
       "        vertical-align: top;\n",
       "    }\n",
       "\n",
       "    .dataframe thead th {\n",
       "        text-align: right;\n",
       "    }\n",
       "</style>\n",
       "<table border=\"1\" class=\"dataframe\">\n",
       "  <thead>\n",
       "    <tr style=\"text-align: right;\">\n",
       "      <th></th>\n",
       "      <th>0</th>\n",
       "      <th>1</th>\n",
       "      <th>2</th>\n",
       "      <th>3</th>\n",
       "    </tr>\n",
       "  </thead>\n",
       "  <tbody>\n",
       "    <tr>\n",
       "      <th>0</th>\n",
       "      <td>0.448</td>\n",
       "      <td>0.832000</td>\n",
       "      <td>0.193000</td>\n",
       "      <td>1.000000</td>\n",
       "    </tr>\n",
       "    <tr>\n",
       "      <th>1</th>\n",
       "      <td>0.000</td>\n",
       "      <td>0.002143</td>\n",
       "      <td>-0.388368</td>\n",
       "      <td>-0.939732</td>\n",
       "    </tr>\n",
       "    <tr>\n",
       "      <th>2</th>\n",
       "      <td>0.000</td>\n",
       "      <td>0.000000</td>\n",
       "      <td>268.002187</td>\n",
       "      <td>648.187500</td>\n",
       "    </tr>\n",
       "  </tbody>\n",
       "</table>\n",
       "</div>"
      ],
      "text/plain": [
       "       0         1           2           3\n",
       "0  0.448  0.832000    0.193000    1.000000\n",
       "1  0.000  0.002143   -0.388368   -0.939732\n",
       "2  0.000  0.000000  268.002187  648.187500"
      ]
     },
     "execution_count": 32,
     "metadata": {},
     "output_type": "execute_result"
    }
   ],
   "source": [
    "pd.DataFrame(M).head() ##temos a matriz perfeitamente triangulada. Note que a coluna de respostas tambem sofre alterações"
   ]
  },
  {
   "cell_type": "markdown",
   "metadata": {},
   "source": [
    "## Retrossubstituição (ou, atribuição das soluções do sistema)"
   ]
  },
  {
   "cell_type": "markdown",
   "metadata": {},
   "source": [
    "### Vamos exibir os coeficientes da matriz em função de suas coordenadas para faciliar o entendimento"
   ]
  },
  {
   "cell_type": "code",
   "execution_count": 33,
   "metadata": {},
   "outputs": [
    {
     "data": {
      "text/latex": [
       "\\begin{equation}\n",
       "\\left[\n",
       "    \\begin{array}{ccc:c}\n",
       "        M[0,0]x_1 & M[0,1]x_2 & M[0,2]x_3 & M[0,3]\\\\\n",
       "        0 & M[1,1]x_2 & M[1,2]x_3 & M[1,3]\\\\\n",
       "        0 & 0 & M[2,2]x_3 & M[2,3]\\\\\n",
       "    \\end{array}\n",
       "\\right]\n",
       "\\end{equation}\n"
      ],
      "text/plain": [
       "<IPython.core.display.Latex object>"
      ]
     },
     "metadata": {},
     "output_type": "display_data"
    }
   ],
   "source": [
    "%%latex\n",
    "\\begin{equation}\n",
    "\\left[\n",
    "    \\begin{array}{ccc:c}\n",
    "        M[0,0]x_1 & M[0,1]x_2 & M[0,2]x_3 & M[0,3]\\\\\n",
    "        0 & M[1,1]x_2 & M[1,2]x_3 & M[1,3]\\\\\n",
    "        0 & 0 & M[2,2]x_3 & M[2,3]\\\\\n",
    "    \\end{array}\n",
    "\\right]\n",
    "\\end{equation}"
   ]
  },
  {
   "cell_type": "markdown",
   "metadata": {},
   "source": [
    "### Neste caso, teriamos:"
   ]
  },
  {
   "cell_type": "code",
   "execution_count": 42,
   "metadata": {},
   "outputs": [
    {
     "data": {
      "text/latex": [
       "\\begin{equation}\n",
       "x_3 = \\frac{M[2,3]}{M[2,2]}\\\\\n",
       "x_2  = \\frac{M[1,3]}{M[1,1]} - \\frac{M[1,2]*x_3}{M[1,1]}\\\\\n",
       "x_1  = \\frac{M[0,3]}{M[0,0]} - \\frac{M[0,2]*x_3}{M[0,0]} - \\frac{M[0,1]*x_2}{M[0,0]}\n",
       "\\end{equation}\n"
      ],
      "text/plain": [
       "<IPython.core.display.Latex object>"
      ]
     },
     "metadata": {},
     "output_type": "display_data"
    }
   ],
   "source": [
    "%%latex\n",
    "\\begin{equation}\n",
    "x_3 = \\frac{M[2,3]}{M[2,2]}\\\\\n",
    "x_2  = \\frac{M[1,3]}{M[1,1]} - \\frac{M[1,2]*x_3}{M[1,1]}\\\\\n",
    "x_1  = \\frac{M[0,3]}{M[0,0]} - \\frac{M[0,2]*x_3}{M[0,0]} - \\frac{M[0,1]*x_2}{M[0,0]}\n",
    "\\end{equation}"
   ]
  },
  {
   "cell_type": "markdown",
   "metadata": {},
   "source": [
    "### Note que os coeficientes que acompanham as incógnitas $x_i$ andam até o limite (n-i) nas colunas; ex: na linha 3, 0 passos; na linha 2, 1 passo (até M[1,2]); na linha 1, 2 passos (até M[0,1]). "
   ]
  },
  {
   "cell_type": "code",
   "execution_count": 35,
   "metadata": {},
   "outputs": [],
   "source": [
    "## começamos com o caso de i = n (andamos de baixo pra cima na matriz)\n",
    "x[n-1] = M[n-1, n]/M[n-1, n-1]"
   ]
  },
  {
   "cell_type": "code",
   "execution_count": 36,
   "metadata": {},
   "outputs": [],
   "source": [
    "for i in range(1, n): ###restringimos os casos a partir de n-1. o indexador do python ja fa isso naturalmente [1,n) ==[1,n-1]\n",
    "    termo_ind = M[n-i-1,n]/M[n-i-1,n-i-1] \n",
    "    soma = 0\n",
    "    for j in range(n-i, n):           ###esta parte do loop é a mais crucial de ser entendida; escreva numa folhinha de papel o que ela faz que fica facil de enxergar\n",
    "        soma += ((M[n-i-1,j])/(M[n-i-1,n-i-1]))*x[j]\n",
    "    x[n-i-1] = termo_ind - soma          ####o vetor de respostas vai sendo alimentado de tras pra frente tambem"
   ]
  },
  {
   "cell_type": "code",
   "execution_count": 37,
   "metadata": {},
   "outputs": [
    {
     "data": {
      "text/html": [
       "<div>\n",
       "<style scoped>\n",
       "    .dataframe tbody tr th:only-of-type {\n",
       "        vertical-align: middle;\n",
       "    }\n",
       "\n",
       "    .dataframe tbody tr th {\n",
       "        vertical-align: top;\n",
       "    }\n",
       "\n",
       "    .dataframe thead th {\n",
       "        text-align: right;\n",
       "    }\n",
       "</style>\n",
       "<table border=\"1\" class=\"dataframe\">\n",
       "  <thead>\n",
       "    <tr style=\"text-align: right;\">\n",
       "      <th></th>\n",
       "      <th>0</th>\n",
       "    </tr>\n",
       "  </thead>\n",
       "  <tbody>\n",
       "    <tr>\n",
       "      <th>0</th>\n",
       "      <td>1.561414</td>\n",
       "    </tr>\n",
       "    <tr>\n",
       "      <th>1</th>\n",
       "      <td>-0.199882</td>\n",
       "    </tr>\n",
       "    <tr>\n",
       "      <th>2</th>\n",
       "      <td>2.418590</td>\n",
       "    </tr>\n",
       "  </tbody>\n",
       "</table>\n",
       "</div>"
      ],
      "text/plain": [
       "          0\n",
       "0  1.561414\n",
       "1 -0.199882\n",
       "2  2.418590"
      ]
     },
     "execution_count": 37,
     "metadata": {},
     "output_type": "execute_result"
    }
   ],
   "source": [
    "pd.DataFrame(x)"
   ]
  },
  {
   "cell_type": "code",
   "execution_count": 43,
   "metadata": {},
   "outputs": [
    {
     "data": {
      "text/html": [
       "<div>\n",
       "<style scoped>\n",
       "    .dataframe tbody tr th:only-of-type {\n",
       "        vertical-align: middle;\n",
       "    }\n",
       "\n",
       "    .dataframe tbody tr th {\n",
       "        vertical-align: top;\n",
       "    }\n",
       "\n",
       "    .dataframe thead th {\n",
       "        text-align: right;\n",
       "    }\n",
       "</style>\n",
       "<table border=\"1\" class=\"dataframe\">\n",
       "  <thead>\n",
       "    <tr style=\"text-align: right;\">\n",
       "      <th></th>\n",
       "      <th>0</th>\n",
       "      <th>1</th>\n",
       "      <th>2</th>\n",
       "      <th>3</th>\n",
       "    </tr>\n",
       "  </thead>\n",
       "  <tbody>\n",
       "    <tr>\n",
       "      <th>0</th>\n",
       "      <td>0.448</td>\n",
       "      <td>0.832000</td>\n",
       "      <td>0.193000</td>\n",
       "      <td>1.000000</td>\n",
       "    </tr>\n",
       "    <tr>\n",
       "      <th>1</th>\n",
       "      <td>0.000</td>\n",
       "      <td>0.002143</td>\n",
       "      <td>-0.388368</td>\n",
       "      <td>-0.939732</td>\n",
       "    </tr>\n",
       "    <tr>\n",
       "      <th>2</th>\n",
       "      <td>0.000</td>\n",
       "      <td>0.000000</td>\n",
       "      <td>268.002187</td>\n",
       "      <td>648.187500</td>\n",
       "    </tr>\n",
       "  </tbody>\n",
       "</table>\n",
       "</div>"
      ],
      "text/plain": [
       "       0         1           2           3\n",
       "0  0.448  0.832000    0.193000    1.000000\n",
       "1  0.000  0.002143   -0.388368   -0.939732\n",
       "2  0.000  0.000000  268.002187  648.187500"
      ]
     },
     "execution_count": 43,
     "metadata": {},
     "output_type": "execute_result"
    }
   ],
   "source": [
    "pd.DataFrame(M)"
   ]
  },
  {
   "cell_type": "markdown",
   "metadata": {},
   "source": [
    "### Verificando se resultou na solução correta:"
   ]
  },
  {
   "cell_type": "code",
   "execution_count": 44,
   "metadata": {},
   "outputs": [
    {
     "data": {
      "text/plain": [
       "array([[  1.        ],\n",
       "       [ -0.93973214],\n",
       "       [648.1875    ]])"
      ]
     },
     "execution_count": 44,
     "metadata": {},
     "output_type": "execute_result"
    }
   ],
   "source": [
    "np.dot(M[:,0:3],x) #Sim!"
   ]
  }
 ],
 "metadata": {
  "kernelspec": {
   "display_name": "Python 3",
   "language": "python",
   "name": "python3"
  },
  "language_info": {
   "codemirror_mode": {
    "name": "ipython",
    "version": 3
   },
   "file_extension": ".py",
   "mimetype": "text/x-python",
   "name": "python",
   "nbconvert_exporter": "python",
   "pygments_lexer": "ipython3",
   "version": "3.7.1"
  }
 },
 "nbformat": 4,
 "nbformat_minor": 2
}
