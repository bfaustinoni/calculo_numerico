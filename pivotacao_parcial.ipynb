{
 "cells": [
  {
   "cell_type": "markdown",
   "metadata": {},
   "source": [
    "# Alguns métodos de resolução de sistemas lineares"
   ]
  },
  {
   "cell_type": "markdown",
   "metadata": {},
   "source": [
    "# Método de eliminação de Gauss - pivotação parcial"
   ]
  },
  {
   "cell_type": "markdown",
   "metadata": {},
   "source": [
    "###### Neste método, ordenamos as linhas da matriz de modo que a diagonal principal sempre tenha o maior valor (em módulo) na coluna. Ajuda a resolver problemas com arredondamento, mas dificulta um pouco a construção Por isso, vamos construir as funções aos poucos e finalizar tudo numa única função."
   ]
  },
  {
   "cell_type": "code",
   "execution_count": 129,
   "metadata": {},
   "outputs": [],
   "source": [
    "import numpy as np\n",
    "import pandas as pd"
   ]
  },
  {
   "cell_type": "code",
   "execution_count": 11,
   "metadata": {},
   "outputs": [],
   "source": [
    "n = 3 ## tamanho da matriz de exemplo"
   ]
  },
  {
   "cell_type": "code",
   "execution_count": 95,
   "metadata": {},
   "outputs": [],
   "source": [
    "x = np.zeros((n, 1)) ##esse vetor vai conter as respostas do sistema"
   ]
  },
  {
   "cell_type": "code",
   "execution_count": 104,
   "metadata": {},
   "outputs": [],
   "source": [
    "M = np.zeros((n,n+1)) ##seta uma matriz de exemplo; a coluna sempre tem que ter dimensão n+1 pois ela recebe\n",
    "#tambem o vetor de resposta. Vamos a seguir popular a nossa matriz com um exemplo simples de sistema possível e determinado\n",
    "### como exemplo de aplicação do algoritmo de Gauss sem pivotação "
   ]
  },
  {
   "cell_type": "code",
   "execution_count": 109,
   "metadata": {},
   "outputs": [],
   "source": [
    "M[0][0] = -0.319\n",
    "M[0][1] = 0.884\n",
    "M[0][2] = 0.279\n",
    "M[0][3] = 0\n",
    "M[1][0] = 0.421\n",
    "M[1][1] = 0.784\n",
    "M[1][2] = -0.207\n",
    "M[1][3] = 0\n",
    "M[2][0] = 0.448\n",
    "M[2][1] = 0.832\n",
    "M[2][2] = 0.193\n",
    "M[2][3] = 1"
   ]
  },
  {
   "cell_type": "markdown",
   "metadata": {},
   "source": [
    "### Pivotação parcial\n",
    "#### A função abaixo vai encontrar o indice (de linha) do maior valor em módulo na coluna que queremos pivotar, a partir da linha i == j"
   ]
  },
  {
   "cell_type": "code",
   "execution_count": 119,
   "metadata": {},
   "outputs": [],
   "source": [
    "def max_idx(M, n, j): ###\n",
    "    max_ = 0\n",
    "    idx = 0\n",
    "    for i in range(j,n):\n",
    "        if abs(M[i,j]) >= max_:\n",
    "            max_ = M[i,j]\n",
    "            idx = i\n",
    "    return idx"
   ]
  },
  {
   "cell_type": "code",
   "execution_count": 77,
   "metadata": {},
   "outputs": [
    {
     "data": {
      "text/plain": [
       "array([[-0.319,  0.884,  0.279,  0.   ],\n",
       "       [ 0.421,  0.784, -0.207,  0.   ],\n",
       "       [ 0.448,  0.832,  0.193,  1.   ]])"
      ]
     },
     "execution_count": 77,
     "metadata": {},
     "output_type": "execute_result"
    }
   ],
   "source": [
    "M"
   ]
  },
  {
   "cell_type": "code",
   "execution_count": 78,
   "metadata": {},
   "outputs": [],
   "source": [
    "teste = pivota(M, n, 0)"
   ]
  },
  {
   "cell_type": "markdown",
   "metadata": {},
   "source": [
    "### A função abaixo faz a troca de linhas, de acordo com a coluna j em que estamos"
   ]
  },
  {
   "cell_type": "code",
   "execution_count": 117,
   "metadata": {},
   "outputs": [],
   "source": [
    "def pivota(M, n, j):\n",
    "    idx_max = max_idx(M, n, j)\n",
    "    temp = M[j,:].copy()\n",
    "    M[j,:] = M[idx_max,:]\n",
    "    M[idx_max,:] = temp\n",
    "    return M"
   ]
  },
  {
   "cell_type": "markdown",
   "metadata": {},
   "source": [
    "### Escalonamento da matriz"
   ]
  },
  {
   "cell_type": "code",
   "execution_count": 118,
   "metadata": {},
   "outputs": [],
   "source": [
    "def triangula(M, n, j):   ###\n",
    "                         ###esta função traz o indice da coluna em que estamos, a matriz, e o tamanho da matriz de coeficientes\n",
    "    pivo = M[j,j]         ### ela vai escalonar a linha a partir do indice da coluna\n",
    "    for i in range(j+1,n):\n",
    "        M[i,:] = M[i,:] - (M[i,j]/pivo)*M[j,:]\n",
    "    return M"
   ]
  },
  {
   "cell_type": "markdown",
   "metadata": {},
   "source": [
    "### Juntando tudo numa funçãozinha só"
   ]
  },
  {
   "cell_type": "code",
   "execution_count": 120,
   "metadata": {},
   "outputs": [],
   "source": [
    "###vamos juntar tudo numa função só para mostrar que funciona\n",
    "def pivotacao_parcial(M,n):\n",
    "    for j in range(n):\n",
    "        M = pivota(M, n, j)\n",
    "        M = triangula(M, n, j)\n",
    "    return M"
   ]
  },
  {
   "cell_type": "markdown",
   "metadata": {},
   "source": [
    "### A implementação acima funciona, mas tem funçõezinhas em separado. Conseguimos juntar tudo em uma só: encontrar o maior valor em módulo, trocar as linhas, e escalonar :)\n"
   ]
  },
  {
   "cell_type": "code",
   "execution_count": 130,
   "metadata": {},
   "outputs": [],
   "source": [
    "def pivotacao_parcial_tot(M, n):\n",
    "    for j in range(n):\n",
    "        max_ = 0\n",
    "        idx = 0\n",
    "        for i in range(j,n):\n",
    "            if abs(M[i,j]) >= max_:\n",
    "                max_ = M[i,j]\n",
    "                idx = i\n",
    "        i=0\n",
    "        temp = M[j,:].copy()\n",
    "        M[j,:] = M[idx,:]\n",
    "        M[idx,:] = temp\n",
    "        pivo = M[j,j]         ### ela vai escalonar a linha a partir do indice da coluna\n",
    "        for i in range(j+1,n):\n",
    "            M[i,:] = M[i,:] - (M[i,j]/pivo)*M[j,:]\n",
    "    return M"
   ]
  },
  {
   "cell_type": "code",
   "execution_count": 131,
   "metadata": {},
   "outputs": [],
   "source": [
    "n = 4\n",
    "M = np.zeros((n,n+1))\n",
    "M[0][0] = 1\n",
    "M[0][1] = 2\n",
    "M[0][2] = 3\n",
    "M[0][3] = 4\n",
    "M[0][4] = 5\n",
    "\n",
    "M[1][0] = 2\n",
    "M[1][1] = 0\n",
    "M[1][2] = 13\n",
    "M[1][3] = 11\n",
    "M[1][4] = 0\n",
    "\n",
    "M[2][0] = 14\n",
    "M[2][1] = 21\n",
    "M[2][2] = 9\n",
    "M[2][3] = 5\n",
    "M[2][4] = -3\n",
    "\n",
    "\n",
    "\n",
    "M[3][0] = 5\n",
    "M[3][1] = 4\n",
    "M[3][2] = 3\n",
    "M[3][3] = 2\n",
    "M[3][4] = 1\n"
   ]
  },
  {
   "cell_type": "code",
   "execution_count": 124,
   "metadata": {},
   "outputs": [
    {
     "data": {
      "text/plain": [
       "array([[ 1.,  2.,  3.,  4.,  5.],\n",
       "       [ 2.,  0., 13., 11.,  0.],\n",
       "       [14., 21.,  9.,  5., -3.],\n",
       "       [ 5.,  4.,  3.,  2.,  1.]])"
      ]
     },
     "execution_count": 124,
     "metadata": {},
     "output_type": "execute_result"
    }
   ],
   "source": [
    "M"
   ]
  },
  {
   "cell_type": "code",
   "execution_count": 111,
   "metadata": {},
   "outputs": [],
   "source": [
    "teste = pivotacao_parcial_tot(M, 4)"
   ]
  },
  {
   "cell_type": "markdown",
   "metadata": {},
   "source": [
    "## Retrossubstituição (ou, atribuição das soluções do sistema)"
   ]
  },
  {
   "cell_type": "code",
   "execution_count": 113,
   "metadata": {},
   "outputs": [],
   "source": [
    "## começamos com o caso de i = n (andamos de baixo pra cima na matriz)\n",
    "x[n-1] = M[n-1, n]/M[n-1, n-1]"
   ]
  },
  {
   "cell_type": "code",
   "execution_count": 114,
   "metadata": {},
   "outputs": [],
   "source": [
    "for i in range(1, n): ###restringimos os casos a partir de n-1. o indexador do python ja fa isso naturalmente [1,n) ==[1,n-1]\n",
    "    termo_ind = M[n-i-1,n]/M[n-i-1,n-i-1] ###termo independente da equacao\n",
    "    soma = 0\n",
    "    for j in range(n-i, n):           ###esta parte do loop é a mais crucial de ser entendida; escreva numa folhinha de papel o que ela faz que fica facil de enxergar\n",
    "        soma += ((M[n-i-1,j])/(M[n-i-1,n-i-1]))*x[j]\n",
    "    x[n-i-1] = termo_ind - soma          ####o vetor de respostas vai sendo alimentado de tras pra frente tambem"
   ]
  },
  {
   "cell_type": "code",
   "execution_count": 115,
   "metadata": {},
   "outputs": [
    {
     "data": {
      "text/html": [
       "<div>\n",
       "<style scoped>\n",
       "    .dataframe tbody tr th:only-of-type {\n",
       "        vertical-align: middle;\n",
       "    }\n",
       "\n",
       "    .dataframe tbody tr th {\n",
       "        vertical-align: top;\n",
       "    }\n",
       "\n",
       "    .dataframe thead th {\n",
       "        text-align: right;\n",
       "    }\n",
       "</style>\n",
       "<table border=\"1\" class=\"dataframe\">\n",
       "  <thead>\n",
       "    <tr style=\"text-align: right;\">\n",
       "      <th></th>\n",
       "      <th>0</th>\n",
       "    </tr>\n",
       "  </thead>\n",
       "  <tbody>\n",
       "    <tr>\n",
       "      <th>0</th>\n",
       "      <td>0.8</td>\n",
       "    </tr>\n",
       "    <tr>\n",
       "      <th>1</th>\n",
       "      <td>-0.2</td>\n",
       "    </tr>\n",
       "    <tr>\n",
       "      <th>2</th>\n",
       "      <td>-3.0</td>\n",
       "    </tr>\n",
       "    <tr>\n",
       "      <th>3</th>\n",
       "      <td>3.4</td>\n",
       "    </tr>\n",
       "  </tbody>\n",
       "</table>\n",
       "</div>"
      ],
      "text/plain": [
       "     0\n",
       "0  0.8\n",
       "1 -0.2\n",
       "2 -3.0\n",
       "3  3.4"
      ]
     },
     "execution_count": 115,
     "metadata": {},
     "output_type": "execute_result"
    }
   ],
   "source": [
    "pd.DataFrame(x)"
   ]
  },
  {
   "cell_type": "markdown",
   "metadata": {},
   "source": [
    "### Vamos jogar tudo isso numa função também "
   ]
  },
  {
   "cell_type": "code",
   "execution_count": 128,
   "metadata": {},
   "outputs": [],
   "source": [
    "def solucao(M, n):\n",
    "    \n",
    "    x = np.zeros((n, 1)) ###vetor que vai armazenar a resposta\n",
    "    \n",
    "    ## começamos com o caso de i = n (andamos de baixo pra cima na matriz)\n",
    "    x[n-1] = M[n-1, n]/M[n-1, n-1]\n",
    "    \n",
    "    for i in range(1, n): ###restringimos os casos a partir de n-1. o indexador do python ja fa isso naturalmente [1,n) ==[1,n-1]\n",
    "        termo_ind = M[n-i-1,n]/M[n-i-1,n-i-1] ###termo independente da equacao\n",
    "        soma = 0\n",
    "        for j in range(n-i, n):           ###esta parte do loop é a mais crucial de ser entendida; escreva numa folhinha de papel o que ela faz que fica facil de enxergar\n",
    "            soma += ((M[n-i-1,j])/(M[n-i-1,n-i-1]))*x[j]\n",
    "        x[n-i-1] = termo_ind - soma          ####o vetor de respostas vai sendo alimentado de tras pra frente tambem\n",
    "    \n",
    "    return x\n",
    "    "
   ]
  },
  {
   "cell_type": "code",
   "execution_count": 132,
   "metadata": {},
   "outputs": [],
   "source": [
    "A = pivotacao_parcial_tot(M, n)"
   ]
  },
  {
   "cell_type": "code",
   "execution_count": 133,
   "metadata": {},
   "outputs": [
    {
     "data": {
      "text/plain": [
       "array([[14.        , 21.        ,  9.        ,  5.        , -3.        ],\n",
       "       [ 0.        , -3.5       , -0.21428571,  0.21428571,  2.07142857],\n",
       "       [ 0.        ,  0.        , 11.89795918, 10.10204082, -1.34693878],\n",
       "       [ 0.        ,  0.        ,  0.        ,  1.69811321,  5.77358491]])"
      ]
     },
     "execution_count": 133,
     "metadata": {},
     "output_type": "execute_result"
    }
   ],
   "source": [
    "A"
   ]
  },
  {
   "cell_type": "code",
   "execution_count": 134,
   "metadata": {},
   "outputs": [
    {
     "data": {
      "text/plain": [
       "array([[ 0.8],\n",
       "       [-0.2],\n",
       "       [-3. ],\n",
       "       [ 3.4]])"
      ]
     },
     "execution_count": 134,
     "metadata": {},
     "output_type": "execute_result"
    }
   ],
   "source": [
    "sol = solucao(A, n)\n",
    "sol"
   ]
  },
  {
   "cell_type": "markdown",
   "metadata": {},
   "source": [
    "### Verificando se resultou na solução correta:"
   ]
  },
  {
   "cell_type": "code",
   "execution_count": 136,
   "metadata": {},
   "outputs": [
    {
     "data": {
      "text/plain": [
       "array([[-3.        ],\n",
       "       [ 2.07142857],\n",
       "       [-1.34693878],\n",
       "       [ 5.77358491]])"
      ]
     },
     "execution_count": 136,
     "metadata": {},
     "output_type": "execute_result"
    }
   ],
   "source": [
    "np.dot(A[:,0:4],sol) #Sim!"
   ]
  }
 ],
 "metadata": {
  "kernelspec": {
   "display_name": "Python 3",
   "language": "python",
   "name": "python3"
  },
  "language_info": {
   "codemirror_mode": {
    "name": "ipython",
    "version": 3
   },
   "file_extension": ".py",
   "mimetype": "text/x-python",
   "name": "python",
   "nbconvert_exporter": "python",
   "pygments_lexer": "ipython3",
   "version": "3.7.1"
  }
 },
 "nbformat": 4,
 "nbformat_minor": 2
}
