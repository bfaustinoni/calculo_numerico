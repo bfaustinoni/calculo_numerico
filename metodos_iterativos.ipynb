{
 "cells": [
  {
   "cell_type": "markdown",
   "metadata": {},
   "source": [
    "# Alguns métodos de resolução de sistemas lineares"
   ]
  },
  {
   "cell_type": "markdown",
   "metadata": {},
   "source": [
    "# Método iterativo de Jacobi"
   ]
  },
  {
   "cell_type": "markdown",
   "metadata": {},
   "source": [
    "###### Nos casos em que a convergência é possível, pode-se resolver o sistema através de métodos iterativos utilizando os coeficientes não nulos do sistema. Neste tipo de método de solução, o problema deve ser analisado caso a caso pois precisamos mapear os coeficientes não nulos."
   ]
  },
  {
   "cell_type": "markdown",
   "metadata": {},
   "source": [
    "#### No caso do sistema $AX = B$, conseguimos decompor $A = L + D + U$, onde $L$ é a triangular inferior estrita de A, $U$ é a triangular superior estrita e $D$ é a diagonal da matriz."
   ]
  },
  {
   "cell_type": "markdown",
   "metadata": {},
   "source": [
    "#### As iterações então são da forma:\n",
    "$X^{k+1} = D^{-1}(B - (L+U)X^{k})$"
   ]
  },
  {
   "cell_type": "markdown",
   "metadata": {},
   "source": [
    "#### E de forma desenvolvida:\n",
    "#### $x_{i}^{k+1} = \\frac{1}{a_{ii}}(b_{i} - \\sum_{j=1}^{i-1}a_{ij}x_{j}^{k} - \\sum_{j=i+1}^{n}a_{ij}x_{j}^{k})$\n"
   ]
  },
  {
   "cell_type": "code",
   "execution_count": 1,
   "metadata": {},
   "outputs": [],
   "source": [
    "import numpy as np\n",
    "import pandas as pd"
   ]
  },
  {
   "cell_type": "code",
   "execution_count": 2,
   "metadata": {},
   "outputs": [],
   "source": [
    "n = 3 ## tamanho da matriz de exemplo"
   ]
  },
  {
   "cell_type": "code",
   "execution_count": 9,
   "metadata": {},
   "outputs": [],
   "source": [
    "M = np.zeros((n,n+1)) ##seta uma matriz de exemplo; a coluna neste método tem que ter dimensão n+1 para entrar a resposta\n",
    "k = 50 ###numero de iterações\n",
    "X = np.zeros((k, n+1)) ### matriz inferior com espacinho para o controle de linha"
   ]
  },
  {
   "cell_type": "code",
   "execution_count": 4,
   "metadata": {},
   "outputs": [
    {
     "data": {
      "text/plain": [
       "array([[0., 0., 0., 0.],\n",
       "       [0., 0., 0., 0.],\n",
       "       [0., 0., 0., 0.]])"
      ]
     },
     "execution_count": 4,
     "metadata": {},
     "output_type": "execute_result"
    }
   ],
   "source": [
    "M"
   ]
  },
  {
   "cell_type": "code",
   "execution_count": 10,
   "metadata": {},
   "outputs": [],
   "source": [
    "###preenchendo com os coeficientes e valores da matriz M\n",
    "M[0][0] = 3\n",
    "M[0][1] = -1\n",
    "M[0][2] = -1\n",
    "M[0][3] = 1\n",
    "M[1][0] = 1\n",
    "M[1][1] = 3\n",
    "M[1][2] = 1\n",
    "M[1][3] = 5\n",
    "M[2][0] = 1\n",
    "M[2][1] = -1\n",
    "M[2][2] = 2\n",
    "M[2][3] = 2\n"
   ]
  },
  {
   "cell_type": "code",
   "execution_count": 6,
   "metadata": {},
   "outputs": [],
   "source": [
    "M_orig = M.copy()"
   ]
  },
  {
   "cell_type": "markdown",
   "metadata": {},
   "source": [
    "### Algoritmo iterativo de Jacobi"
   ]
  },
  {
   "cell_type": "code",
   "execution_count": 7,
   "metadata": {},
   "outputs": [],
   "source": [
    "guess = [0,0,0] ##chute inicial para os valores de x\n",
    "\n",
    "X[0,1:n+1] = guess ###atribuição do chute inicial na matriz X \n",
    "iter_ = k\n",
    "\n",
    "### controla as iteracoes\n",
    "for k in range(iter_ -1):\n",
    "    ### controla as variaveis percorridas\n",
    "    for i in range(n):\n",
    "        soma_i = 0\n",
    "        for j in range(i):  ###o python ja indexa de [1, i). nao precisa fazer até i-1\n",
    "            soma_i += M[i,j]*X[k,j+1] ##Acompanhar o indice corretamente, a primeira linha em X é pro contador\n",
    "        soma_i_n =0\n",
    "        for j in range(i+1,n):\n",
    "            soma_i_n += M[i,j]*X[k,j+1]\n",
    "        X[k+1, i+1] = (1/M[i,i])*(M[i,n] - soma_i - soma_i_n)\n",
    "    X[k, 0] = k"
   ]
  },
  {
   "cell_type": "code",
   "execution_count": 8,
   "metadata": {},
   "outputs": [
    {
     "data": {
      "text/plain": [
       "array([[ 0.        ,  0.        ,  0.        ,  0.        ],\n",
       "       [ 1.        ,  0.33333333,  1.66666667,  1.        ],\n",
       "       [ 2.        ,  1.22222222,  1.22222222,  1.66666667],\n",
       "       [ 3.        ,  1.2962963 ,  0.7037037 ,  1.        ],\n",
       "       [ 4.        ,  0.90123457,  0.90123457,  0.7037037 ],\n",
       "       [ 5.        ,  0.86831276,  1.13168724,  1.        ],\n",
       "       [ 6.        ,  1.04389575,  1.04389575,  1.13168724],\n",
       "       [ 7.        ,  1.05852766,  0.94147234,  1.        ],\n",
       "       [ 8.        ,  0.98049078,  0.98049078,  0.94147234],\n",
       "       [ 9.        ,  0.97398771,  1.02601229,  1.        ],\n",
       "       [10.        ,  1.00867076,  1.00867076,  1.02601229],\n",
       "       [11.        ,  1.01156102,  0.98843898,  1.        ],\n",
       "       [12.        ,  0.99614633,  0.99614633,  0.98843898],\n",
       "       [13.        ,  0.99486177,  1.00513823,  1.        ],\n",
       "       [14.        ,  1.00171274,  1.00171274,  1.00513823],\n",
       "       [15.        ,  1.00228366,  0.99771634,  1.        ],\n",
       "       [16.        ,  0.99923878,  0.99923878,  0.99771634],\n",
       "       [17.        ,  0.99898504,  1.00101496,  1.        ],\n",
       "       [18.        ,  1.00033832,  1.00033832,  1.00101496],\n",
       "       [19.        ,  1.00045109,  0.99954891,  1.        ],\n",
       "       [20.        ,  0.99984964,  0.99984964,  0.99954891],\n",
       "       [21.        ,  0.99979951,  1.00020049,  1.        ],\n",
       "       [22.        ,  1.00006683,  1.00006683,  1.00020049],\n",
       "       [23.        ,  1.0000891 ,  0.9999109 ,  1.        ],\n",
       "       [24.        ,  0.9999703 ,  0.9999703 ,  0.9999109 ],\n",
       "       [25.        ,  0.9999604 ,  1.0000396 ,  1.        ],\n",
       "       [26.        ,  1.0000132 ,  1.0000132 ,  1.0000396 ],\n",
       "       [27.        ,  1.0000176 ,  0.9999824 ,  1.        ],\n",
       "       [28.        ,  0.99999413,  0.99999413,  0.9999824 ],\n",
       "       [29.        ,  0.99999218,  1.00000782,  1.        ],\n",
       "       [30.        ,  1.00000261,  1.00000261,  1.00000782],\n",
       "       [31.        ,  1.00000348,  0.99999652,  1.        ],\n",
       "       [32.        ,  0.99999884,  0.99999884,  0.99999652],\n",
       "       [33.        ,  0.99999845,  1.00000155,  1.        ],\n",
       "       [34.        ,  1.00000052,  1.00000052,  1.00000155],\n",
       "       [35.        ,  1.00000069,  0.99999931,  1.        ],\n",
       "       [36.        ,  0.99999977,  0.99999977,  0.99999931],\n",
       "       [37.        ,  0.99999969,  1.00000031,  1.        ],\n",
       "       [38.        ,  1.0000001 ,  1.0000001 ,  1.00000031],\n",
       "       [39.        ,  1.00000014,  0.99999986,  1.        ],\n",
       "       [40.        ,  0.99999995,  0.99999995,  0.99999986],\n",
       "       [41.        ,  0.99999994,  1.00000006,  1.        ],\n",
       "       [42.        ,  1.00000002,  1.00000002,  1.00000006],\n",
       "       [43.        ,  1.00000003,  0.99999997,  1.        ],\n",
       "       [44.        ,  0.99999999,  0.99999999,  0.99999997],\n",
       "       [45.        ,  0.99999999,  1.00000001,  1.        ],\n",
       "       [46.        ,  1.        ,  1.        ,  1.00000001],\n",
       "       [47.        ,  1.00000001,  0.99999999,  1.        ],\n",
       "       [48.        ,  1.        ,  1.        ,  0.99999999],\n",
       "       [ 0.        ,  1.        ,  1.        ,  1.        ]])"
      ]
     },
     "execution_count": 8,
     "metadata": {},
     "output_type": "execute_result"
    }
   ],
   "source": [
    "X"
   ]
  },
  {
   "cell_type": "markdown",
   "metadata": {},
   "source": [
    "### Note que o algoritmo oscila bastante até chegar na solução estável $[1, 1, 1]$\n",
    "\n",
    "\n",
    "\n"
   ]
  },
  {
   "cell_type": "markdown",
   "metadata": {},
   "source": [
    "# Método iterativo de Gauss-Seidel"
   ]
  },
  {
   "cell_type": "markdown",
   "metadata": {},
   "source": [
    "### Trata-se de uma modificação no método de Jacobi. Nele, fazemos:\n",
    "\n",
    "$X^{(k+1)} = (D+L)^{-1}(B - U*X^{k})$ \n",
    "\n",
    "#### E de forma desenvolvida, resulta:\n",
    "\n",
    "$x_{i}^{k+1} = (b_{i} - \\sum_{j=1}^{i-1}a_{ij}x_{j}^{k+1} - \\sum_{j=i+1}^{n}a_{ij}x_{j}^{k})/a_{ii}$"
   ]
  },
  {
   "cell_type": "code",
   "execution_count": 13,
   "metadata": {},
   "outputs": [],
   "source": [
    "guess = [0,0,0] ##chute inicial para os valores de x\n",
    "\n",
    "X[0,1:n+1] = guess ###atribuição do chute inicial na matriz X \n",
    "iter_ = k\n",
    "\n",
    "### controla as iteracoes\n",
    "for k in range(iter_ -1):\n",
    "    ### controla as variaveis percorridas\n",
    "    for i in range(n):\n",
    "        soma_i = 0\n",
    "        for j in range(i):  ###o python ja indexa de [1, i). nao precisa fazer até i-1\n",
    "            soma_i += M[i,j]*X[k+1,j+1] ##Acompanhar o indice corretamente, a primeira linha em X é pro contador\n",
    "        soma_i_n =0\n",
    "        for j in range(i+1,n):\n",
    "            soma_i_n += M[i,j]*X[k,j+1]\n",
    "        X[k+1, i+1] = (1/M[i,i])*(M[i,n] - soma_i - soma_i_n)\n",
    "    X[k,0] = k"
   ]
  },
  {
   "cell_type": "code",
   "execution_count": 14,
   "metadata": {},
   "outputs": [
    {
     "data": {
      "text/plain": [
       "array([[ 0.        ,  0.        ,  0.        ,  0.        ],\n",
       "       [ 1.        ,  0.33333333,  1.55555556,  1.61111111],\n",
       "       [ 2.        ,  1.38888889,  0.66666667,  0.63888889],\n",
       "       [ 3.        ,  0.76851852,  1.19753086,  1.21450617],\n",
       "       [ 4.        ,  1.13734568,  0.88271605,  0.87268519],\n",
       "       [ 5.        ,  0.91846708,  1.06961591,  1.07557442],\n",
       "       [ 6.        ,  1.04839678,  0.95867627,  0.95513975],\n",
       "       [ 7.        ,  0.97127201,  1.02452942,  1.02662871],\n",
       "       [ 8.        ,  1.01705271,  0.98543953,  0.98419341],\n",
       "       [ 9.        ,  0.98987765,  1.00864298,  1.00938267],\n",
       "       [10.        ,  1.00600855,  0.99486959,  0.99443052],\n",
       "       [11.        ,  0.99643337,  1.00304537,  1.003306  ],\n",
       "       [12.        ,  1.00211712,  0.99819229,  0.99803759],\n",
       "       [13.        ,  0.99874329,  1.00107304,  1.00116487],\n",
       "       [14.        ,  1.00074597,  0.99936305,  0.99930854],\n",
       "       [15.        ,  0.9995572 ,  1.00037809,  1.00041045],\n",
       "       [16.        ,  1.00026284,  0.99977557,  0.99975636],\n",
       "       [17.        ,  0.99984398,  1.00013322,  1.00014462],\n",
       "       [18.        ,  1.00009261,  0.99992092,  0.99991415],\n",
       "       [19.        ,  0.99994503,  1.00004694,  1.00005096],\n",
       "       [20.        ,  1.00003263,  0.99997214,  0.99996975],\n",
       "       [21.        ,  0.99998063,  1.00001654,  1.00001795],\n",
       "       [22.        ,  1.0000115 ,  0.99999018,  0.99998934],\n",
       "       [23.        ,  0.99999317,  1.00000583,  1.00000633],\n",
       "       [24.        ,  1.00000405,  0.99999654,  0.99999624],\n",
       "       [25.        ,  0.9999976 ,  1.00000205,  1.00000223],\n",
       "       [26.        ,  1.00000143,  0.99999878,  0.99999868],\n",
       "       [27.        ,  0.99999915,  1.00000072,  1.00000079],\n",
       "       [28.        ,  1.0000005 ,  0.99999957,  0.99999953],\n",
       "       [29.        ,  0.9999997 ,  1.00000025,  1.00000028],\n",
       "       [30.        ,  1.00000018,  0.99999985,  0.99999984],\n",
       "       [31.        ,  0.99999989,  1.00000009,  1.0000001 ],\n",
       "       [32.        ,  1.00000006,  0.99999995,  0.99999994],\n",
       "       [33.        ,  0.99999996,  1.00000003,  1.00000003],\n",
       "       [34.        ,  1.00000002,  0.99999998,  0.99999998],\n",
       "       [35.        ,  0.99999999,  1.00000001,  1.00000001],\n",
       "       [36.        ,  1.00000001,  0.99999999,  0.99999999],\n",
       "       [37.        ,  1.        ,  1.        ,  1.        ],\n",
       "       [38.        ,  1.        ,  1.        ,  1.        ],\n",
       "       [39.        ,  1.        ,  1.        ,  1.        ],\n",
       "       [40.        ,  1.        ,  1.        ,  1.        ],\n",
       "       [41.        ,  1.        ,  1.        ,  1.        ],\n",
       "       [42.        ,  1.        ,  1.        ,  1.        ],\n",
       "       [43.        ,  1.        ,  1.        ,  1.        ],\n",
       "       [44.        ,  1.        ,  1.        ,  1.        ],\n",
       "       [45.        ,  1.        ,  1.        ,  1.        ],\n",
       "       [46.        ,  1.        ,  1.        ,  1.        ],\n",
       "       [ 0.        ,  1.        ,  1.        ,  1.        ],\n",
       "       [ 0.        ,  1.        ,  1.        ,  1.        ],\n",
       "       [ 0.        ,  1.        ,  1.        ,  1.        ]])"
      ]
     },
     "execution_count": 14,
     "metadata": {},
     "output_type": "execute_result"
    }
   ],
   "source": [
    "X"
   ]
  },
  {
   "cell_type": "markdown",
   "metadata": {},
   "source": [
    "### Note que converge mais rápido que o método de Jacobi; isso ocorre porque o método de Gauss-Seidel já utiliza os valores atualizados nas variáveis anteriores a $i$."
   ]
  },
  {
   "cell_type": "markdown",
   "metadata": {},
   "source": [
    "# Coeficientes de relaxação"
   ]
  },
  {
   "cell_type": "markdown",
   "metadata": {},
   "source": [
    "### Ao introduzir coeficientes de relaxação no método iterativo de Gauss-Seidel, conseguimos garantir a convergência de soluções que poderiam não convergir, ao mesmo tempo em que reduzimos as oscilações entre as iterações:\n",
    "\n",
    "$x_{i}^{k+1} = (1-\\lambda)x_{i}^{k} + \\lambda(b_{i} - \\sum_{j=1}^{i-1}a_{ij}x_{j}^{k+1} - \\sum_{j=i+1}^{n}a_{ij}x_{j}^{k})/a_{ii}$"
   ]
  },
  {
   "cell_type": "code",
   "execution_count": 15,
   "metadata": {},
   "outputs": [],
   "source": [
    "guess = [0,0,0] ##chute inicial para os valores de x\n",
    "\n",
    "X[0,1:n+1] = guess ###atribuição do chute inicial na matriz X \n",
    "iter_ = k\n",
    "lambda_ = 0.5\n",
    "\n",
    "### controla as iteracoes\n",
    "for k in range(iter_ -1):\n",
    "    ### controla as variaveis percorridas\n",
    "    for i in range(n):\n",
    "        soma_i = 0\n",
    "        for j in range(i):  ###o python ja indexa de [1, i). nao precisa fazer até i-1\n",
    "            soma_i += M[i,j]*X[k+1,j+1] ##Acompanhar o indice corretamente, a primeira linha em X é pro contador\n",
    "        soma_i_n =0\n",
    "        for j in range(i+1,n):\n",
    "            soma_i_n += M[i,j]*X[k,j+1]\n",
    "        X[k+1, i+1] = (1-lambda_)*X[k,i+1] + lambda_*(1/M[i,i])*(M[i,n] - soma_i - soma_i_n)\n",
    "    X[k,0] = k"
   ]
  },
  {
   "cell_type": "code",
   "execution_count": 16,
   "metadata": {},
   "outputs": [
    {
     "data": {
      "text/plain": [
       "array([[ 0.        ,  0.        ,  0.        ,  0.        ],\n",
       "       [ 1.        ,  0.16666667,  0.80555556,  0.65972222],\n",
       "       [ 2.        ,  0.49421296,  1.04378858,  0.96725502],\n",
       "       [ 3.        ,  0.74894708,  1.06919394,  1.06368922],\n",
       "       [ 4.        ,  0.89662073,  1.04121198,  1.06799242],\n",
       "       [ 5.        ,  0.9665111 ,  1.0148554 ,  1.04608229],\n",
       "       [ 6.        ,  0.99341183,  1.00084535,  1.02489952],\n",
       "       [ 7.        ,  1.00099673,  0.99610663,  1.01122724],\n",
       "       [ 8.        ,  1.00172068,  0.99589533,  1.00415728],\n",
       "       [ 9.        ,  1.00086911,  0.99710993,  1.00113885],\n",
       "       [10.        ,  1.00014268,  0.99834138,  1.0001191 ],\n",
       "       [11.        ,  0.99981475,  0.99918171,  0.99990129],\n",
       "       [12.        ,  0.99975454,  0.99964822,  0.99992406],\n",
       "       [13.        ,  0.99980599,  0.9998691 ,  0.99997781],\n",
       "       [14.        ,  0.99987748,  0.99995867,  1.0000092 ],\n",
       "       [15.        ,  0.99993338,  0.9999889 ,  1.00001848],\n",
       "       [16.        ,  0.99996792,  0.99999672,  1.00001644],\n",
       "       [17.        ,  0.99998615,  0.99999793,  1.00001116],\n",
       "       [18.        ,  0.99999459,  0.999998  ,  1.00000643],\n",
       "       [19.        ,  0.99999804,  0.99999826,  1.00000327],\n",
       "       [20.        ,  0.99999927,  0.9999987 ,  1.00000149],\n",
       "       [21.        ,  0.99999967,  0.99999916,  1.00000062],\n",
       "       [22.        ,  0.9999998 ,  0.99999951,  1.00000024],\n",
       "       [23.        ,  0.99999986,  0.99999974,  1.00000009],\n",
       "       [24.        ,  0.9999999 ,  0.99999987,  1.00000004],\n",
       "       [25.        ,  0.99999993,  0.99999994,  1.00000002],\n",
       "       [26.        ,  0.99999996,  0.99999997,  1.00000001],\n",
       "       [27.        ,  0.99999998,  0.99999999,  1.00000001],\n",
       "       [28.        ,  0.99999999,  0.99999999,  1.00000001],\n",
       "       [29.        ,  0.99999999,  1.        ,  1.        ],\n",
       "       [30.        ,  1.        ,  1.        ,  1.        ],\n",
       "       [31.        ,  1.        ,  1.        ,  1.        ],\n",
       "       [32.        ,  1.        ,  1.        ,  1.        ],\n",
       "       [33.        ,  1.        ,  1.        ,  1.        ],\n",
       "       [34.        ,  1.        ,  1.        ,  1.        ],\n",
       "       [35.        ,  1.        ,  1.        ,  1.        ],\n",
       "       [36.        ,  1.        ,  1.        ,  1.        ],\n",
       "       [37.        ,  1.        ,  1.        ,  1.        ],\n",
       "       [38.        ,  1.        ,  1.        ,  1.        ],\n",
       "       [39.        ,  1.        ,  1.        ,  1.        ],\n",
       "       [40.        ,  1.        ,  1.        ,  1.        ],\n",
       "       [41.        ,  1.        ,  1.        ,  1.        ],\n",
       "       [42.        ,  1.        ,  1.        ,  1.        ],\n",
       "       [43.        ,  1.        ,  1.        ,  1.        ],\n",
       "       [44.        ,  1.        ,  1.        ,  1.        ],\n",
       "       [45.        ,  1.        ,  1.        ,  1.        ],\n",
       "       [46.        ,  1.        ,  1.        ,  1.        ],\n",
       "       [ 0.        ,  1.        ,  1.        ,  1.        ],\n",
       "       [ 0.        ,  1.        ,  1.        ,  1.        ],\n",
       "       [ 0.        ,  1.        ,  1.        ,  1.        ]])"
      ]
     },
     "execution_count": 16,
     "metadata": {},
     "output_type": "execute_result"
    }
   ],
   "source": [
    "X"
   ]
  },
  {
   "cell_type": "code",
   "execution_count": null,
   "metadata": {},
   "outputs": [],
   "source": [
    "# Converge bem mais rápido para a solução"
   ]
  },
  {
   "cell_type": "markdown",
   "metadata": {},
   "source": [
    "### Note que os coeficientes que acompanham as incógnitas $x_i$ andam até o limite (i) nas colunas; ex: na linha 1, 0 passos; na linha 2, 1 passo (até L[1,0]); na linha 3, 2 passos (até L[2,1]). "
   ]
  },
  {
   "cell_type": "code",
   "execution_count": null,
   "metadata": {},
   "outputs": [],
   "source": [
    "c = np.zeros((n,1)) ##vetor que vai receber a resposta"
   ]
  },
  {
   "cell_type": "code",
   "execution_count": null,
   "metadata": {},
   "outputs": [],
   "source": [
    "### começamos com i = 0; andamos de cima pra baixo na matriz\n",
    "c[0] = L[0,n]/L[0,0]"
   ]
  },
  {
   "cell_type": "code",
   "execution_count": null,
   "metadata": {},
   "outputs": [],
   "source": [
    "for i in range(1, n): ###restringimos os casos a partir de 1, pois i = 0 ja foi calculado\n",
    "    termo_ind = L[i,n]/L[i,i] ###termo independente da equacao\n",
    "    soma = 0\n",
    "    for j in range(i):           ###esta parte do loop é a mais crucial de ser entendida; escreva numa folhinha de papel o que ela faz que fica facil de enxergar\n",
    "        soma += ((L[i,j])/(L[i,i]))*c[j]\n",
    "    c[i] = termo_ind - soma          ####o vetor de respostas vai sendo alimentado do começo ao fim"
   ]
  },
  {
   "cell_type": "code",
   "execution_count": null,
   "metadata": {},
   "outputs": [],
   "source": [
    "c"
   ]
  },
  {
   "cell_type": "markdown",
   "metadata": {},
   "source": [
    "### Agora vamos resolver o problema $L^{t}X = C$"
   ]
  },
  {
   "cell_type": "markdown",
   "metadata": {},
   "source": [
    "### Como $L^{t}$ é triangular superior, conseguimos aproveitar o algoritmo de retrossubstituições sucessivas:"
   ]
  },
  {
   "cell_type": "code",
   "execution_count": null,
   "metadata": {},
   "outputs": [],
   "source": [
    "x = np.zeros((n, 1)) ##vetor que vai receber a solução do sistema "
   ]
  },
  {
   "cell_type": "code",
   "execution_count": null,
   "metadata": {},
   "outputs": [],
   "source": [
    "Lt[:,n] = c.reshape(1,-1) ###atribuindo o valor de C na última coluna de L^t"
   ]
  },
  {
   "cell_type": "code",
   "execution_count": null,
   "metadata": {},
   "outputs": [],
   "source": [
    "## começamos com o caso de i = n (andamos de baixo pra cima na matriz)\n",
    "x[n-1] = Lt[n-1, n]/Lt[n-1, n-1]"
   ]
  },
  {
   "cell_type": "code",
   "execution_count": null,
   "metadata": {},
   "outputs": [],
   "source": [
    "for i in range(1, n): ###restringimos os casos a partir de n-1. o indexador do python ja fa isso naturalmente [1,n) ==[1,n-1]\n",
    "    termo_ind = Lt[n-i-1,n]/Lt[n-i-1,n-i-1] \n",
    "    soma = 0\n",
    "    for j in range(n-i, n):           ###esta parte do loop é a mais crucial de ser entendida; escreva numa folhinha de papel o que ela faz que fica facil de enxergar\n",
    "        soma += ((Lt[n-i-1,j])/(Lt[n-i-1,n-i-1]))*x[j]\n",
    "    x[n-i-1] = termo_ind - soma          ####o vetor de respostas vai sendo alimentado de tras pra frente tambem"
   ]
  },
  {
   "cell_type": "code",
   "execution_count": null,
   "metadata": {},
   "outputs": [],
   "source": [
    "x"
   ]
  },
  {
   "cell_type": "code",
   "execution_count": null,
   "metadata": {},
   "outputs": [],
   "source": [
    "pd.DataFrame(np.dot(M_orig[:,0:n],x).round(3)) #Sim! Deu certo. "
   ]
  },
  {
   "cell_type": "markdown",
   "metadata": {},
   "source": [
    "# Agrupando tudo em funções"
   ]
  },
  {
   "cell_type": "code",
   "execution_count": null,
   "metadata": {},
   "outputs": [],
   "source": [
    "def decomposicao_cholesky(M, n):\n",
    "    L = np.zeros((M.shape))\n",
    "    Lt = np.zeros((M.shape))\n",
    "    \n",
    "    L[0,0] = np.sqrt(M[0,0])\n",
    "    L[:,0] = M[:,0]/L[0,0]\n",
    "\n",
    "    for k in range(1,n):\n",
    "        ###diagonal principal\n",
    "        sum_k = 0\n",
    "        for r in range(k):\n",
    "            sum_k+=L[k,r]**2\n",
    "        L[k,k] = np.sqrt(M[k, k] - sum_k)\n",
    "    \n",
    "        for i in range(k+1, n):\n",
    "            sum_i = 0\n",
    "            for r in range(k-1):\n",
    "                sum_i += L[i,r]*L[r,k]\n",
    "            L[i,k] = (1/L[k,k])*(M[i,k] - sum_i)\n",
    "    Lt[0:n,0:n] = L[0:n,0:n].T\n",
    "    L[:,n] = M[:,n]\n",
    "    return [M, L, Lt]"
   ]
  },
  {
   "cell_type": "code",
   "execution_count": null,
   "metadata": {},
   "outputs": [],
   "source": [
    "sols = decomposicao_cholesky(M,n)\n",
    "sols"
   ]
  },
  {
   "cell_type": "code",
   "execution_count": null,
   "metadata": {},
   "outputs": [],
   "source": [
    "def solucao(L, n):\n",
    "    c = np.zeros((n, 1))\n",
    "    c[0] = L[0,n]/L[0,0]\n",
    "    for i in range(1, n): ###restringimos os casos a partir de 1, pois i = 0 ja foi calculado\n",
    "        termo_ind = L[i,n]/L[i,i] ###termo independente da equacao\n",
    "        soma = 0\n",
    "        for j in range(i):           ###esta parte do loop é a mais crucial de ser entendida; escreva numa folhinha de papel o que ela faz que fica facil de enxergar\n",
    "            soma += ((L[i,j])/(L[i,i]))*c[j]\n",
    "        c[i] = termo_ind - soma        ####o vetor de respostas vai sendo alimentado do começo ao fim\n",
    "    return c\n",
    "    "
   ]
  },
  {
   "cell_type": "code",
   "execution_count": null,
   "metadata": {},
   "outputs": [],
   "source": [
    "c = solucao(sols[1], n)"
   ]
  },
  {
   "cell_type": "code",
   "execution_count": null,
   "metadata": {},
   "outputs": [],
   "source": [
    "def retro_solucao(U, n, c):\n",
    "    x = np.zeros((n, 1))\n",
    "    U[:,n] = c.reshape(1, -1)\n",
    "    \n",
    "    x[n-1] = U[n-1, n]/U[n-1, n-1] ## começamos com o caso de i = n (andamos de baixo pra cima na matriz)\n",
    "    \n",
    "    for i in range(1, n): ###restringimos os casos a partir de n-1. o indexador do python ja fa isso naturalmente [1,n) ==[1,n-1]\n",
    "        termo_ind = U[n-i-1,n]/U[n-i-1,n-i-1] \n",
    "        soma = 0\n",
    "        for j in range(n-i, n):           ###esta parte do loop é a mais crucial de ser entendida; escreva numa folhinha de papel o que ela faz que fica facil de enxergar\n",
    "            soma += ((U[n-i-1,j])/(U[n-i-1,n-i-1]))*x[j]\n",
    "        x[n-i-1] = termo_ind - soma          ####o vetor de respostas vai sendo alimentado de tras pra frente tambem\n",
    "    return x"
   ]
  },
  {
   "cell_type": "code",
   "execution_count": null,
   "metadata": {},
   "outputs": [],
   "source": [
    "X = retro_solucao(sols[2], n, c)"
   ]
  },
  {
   "cell_type": "code",
   "execution_count": null,
   "metadata": {},
   "outputs": [],
   "source": [
    "c"
   ]
  },
  {
   "cell_type": "code",
   "execution_count": null,
   "metadata": {},
   "outputs": [],
   "source": [
    "X"
   ]
  },
  {
   "cell_type": "markdown",
   "metadata": {},
   "source": [
    "### Testando se funcionou:"
   ]
  },
  {
   "cell_type": "code",
   "execution_count": null,
   "metadata": {},
   "outputs": [],
   "source": [
    "np.dot(M[:,0:n], X).round(3)  ##sim deu certo!"
   ]
  }
 ],
 "metadata": {
  "kernelspec": {
   "display_name": "Python 3",
   "language": "python",
   "name": "python3"
  },
  "language_info": {
   "codemirror_mode": {
    "name": "ipython",
    "version": 3
   },
   "file_extension": ".py",
   "mimetype": "text/x-python",
   "name": "python",
   "nbconvert_exporter": "python",
   "pygments_lexer": "ipython3",
   "version": "3.7.1"
  }
 },
 "nbformat": 4,
 "nbformat_minor": 2
}
