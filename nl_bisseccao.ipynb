{
 "cells": [
  {
   "cell_type": "markdown",
   "metadata": {},
   "source": [
    "# Solução de equações não lineares a uma incógnita"
   ]
  },
  {
   "cell_type": "markdown",
   "metadata": {},
   "source": [
    "# Método da bissecção"
   ]
  },
  {
   "cell_type": "markdown",
   "metadata": {},
   "source": [
    "###### Dada uma equação $f(x) = 0$ e um intervalo fechado $[a, b]$, temos que se $f(a)*f(b) < 0 \\rightarrow  \\exists \\alpha \\in [a,b] \\text{ | } f(\\alpha) = 0$.\n",
    "###### O método da bissecção consiste em reduzir o comprimento do intervalo $[a,b]$ de modo que contenha a solução da equação.\n",
    "###### Fazemos $\\bar{x} = \\frac{a+b}{2}$\n",
    "###### Se $f(a)*f(\\bar{x})<0$, então fazemos $b = \\bar{x}$\n",
    "###### Caso contrário, se $f(\\bar{x})*f(b) <0$, então fazemos $a = \\bar{x}$\n",
    "###### Repetimos até um determinado critério de convergência, ou um dado k número de iterações. Este método tem convergência garantida, mas pode ser lento dependendo da complexidade da equação.\n"
   ]
  },
  {
   "cell_type": "code",
   "execution_count": 3,
   "metadata": {},
   "outputs": [],
   "source": [
    "import numpy as np\n",
    "import pandas as pd"
   ]
  },
  {
   "cell_type": "code",
   "execution_count": 4,
   "metadata": {},
   "outputs": [],
   "source": [
    "int_ = [0,1] ###intervalo inicial\n",
    "k = 10 ##numero de iteracoes\n",
    "x_bar = 0 ###iniciando x_barra como 0\n",
    "\n",
    "raiz = 0 ###iniciando a raiz como zero\n",
    "f1 = 0\n",
    "f2 = 0 ##iniciando os valores da funcao nos extremos do intervalo como zero\n",
    "f_bar = 0 \n",
    "def f(x):\n",
    "    f = np.exp(x)*np.sin(x) - 1\n",
    "    return f\n",
    "\n",
    "for i in range(k):\n",
    "    f1 = f(int_[0])\n",
    "    f2 = f(int_[1])\n",
    "    x_bar = (int_[0]+int_[1])/2\n",
    "    f_bar = f(x_bar)\n",
    "    if(f1*f_bar<0):\n",
    "        int_[1] = x_bar\n",
    "    elif (f_bar*f2 < 0):\n",
    "        int_[0] = x_bar\n",
    "        \n",
    "    raiz = (int_[0]+int_[1])/2\n",
    "\n",
    "\n"
   ]
  },
  {
   "cell_type": "code",
   "execution_count": 8,
   "metadata": {},
   "outputs": [],
   "source": [
    "###testando com uma funcao mais simples so para mostrar que da certo\n",
    "\n",
    "int_ = [-10,10] ###intervalo inicial\n",
    "k = 100 ##numero de iteracoes\n",
    "x_bar = 0 ###iniciando x_barra como 0\n",
    "\n",
    "raiz = 0 ###iniciando a raiz como zero\n",
    "f1 = 0\n",
    "f2 = 0 ##iniciando os valores da funcao nos extremos do intervalo como zero\n",
    "f_bar = 0 \n",
    "def f(x):\n",
    "    f = (x - 2)\n",
    "    return f\n",
    "\n",
    "for i in range(k):\n",
    "    f1 = f(int_[0])\n",
    "    f2 = f(int_[1])\n",
    "    x_bar = (int_[0]+int_[1])/2\n",
    "    f_bar = f(x_bar)\n",
    "    if(f1*f_bar<0):\n",
    "        int_[1] = x_bar\n",
    "    elif (f_bar*f2 < 0):\n",
    "        int_[0] = x_bar\n",
    "        \n",
    "    raiz = (int_[0]+int_[1])/2\n"
   ]
  },
  {
   "cell_type": "code",
   "execution_count": 10,
   "metadata": {},
   "outputs": [
    {
     "data": {
      "text/plain": [
       "[1.9999999999999996, 2.000000000000001]"
      ]
     },
     "execution_count": 10,
     "metadata": {},
     "output_type": "execute_result"
    }
   ],
   "source": [
    "int_"
   ]
  }
 ],
 "metadata": {
  "kernelspec": {
   "display_name": "Python 3",
   "language": "python",
   "name": "python3"
  },
  "language_info": {
   "codemirror_mode": {
    "name": "ipython",
    "version": 3
   },
   "file_extension": ".py",
   "mimetype": "text/x-python",
   "name": "python",
   "nbconvert_exporter": "python",
   "pygments_lexer": "ipython3",
   "version": "3.7.1"
  }
 },
 "nbformat": 4,
 "nbformat_minor": 2
}
